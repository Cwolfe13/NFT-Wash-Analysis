{
 "cells": [
  {
   "cell_type": "markdown",
   "id": "702f3843-d7c9-4924-809d-75e3f3aa163f",
   "metadata": {},
   "source": [
    "# NFT Wash Trading"
   ]
  },
  {
   "cell_type": "markdown",
   "id": "f31221da-7cf0-4eb6-9c23-97b450aab3f0",
   "metadata": {},
   "source": [
    "Here we can build a lab notebook cell by cell.\n",
    "\n",
    "The first task is to get us both on the same page on what data we'll be using for the project, and then we can work on loading it in and working with it."
   ]
  },
  {
   "cell_type": "markdown",
   "id": "e5f00950-5091-4212-8f71-cbf86a15ba9c",
   "metadata": {},
   "source": [
    "## Data import"
   ]
  },
  {
   "cell_type": "code",
   "execution_count": 8,
   "id": "c4b5125b-7685-49af-9574-374027179842",
   "metadata": {},
   "outputs": [],
   "source": [
    "##Data import code here.\n",
    "import os\n",
    "import pandas as pd\n",
    "cwd = os.getcwd()"
   ]
  },
  {
   "cell_type": "code",
   "execution_count": 10,
   "id": "f27d5dda",
   "metadata": {},
   "outputs": [],
   "source": [
    "#List of csv collections\n",
    "collectionCSVs = [\n",
    "    \"0n1_force.csv\",\n",
    "    \"axie_infinity.csv\",\n",
    "    \"azuki.csv\",\n",
    "    \"bored_ape.csv\",\n",
    "    \"clone_x.csv\",\n",
    "    \"coolmonkes.csv\",\n",
    "    \"creature_world.csv\",\n",
    "    \"creepz_reptile.csv\",\n",
    "    \"creeps.csv\",\n",
    "    \"cryptoadz.csv\",\n",
    "    \"cryptobatz.csv\",\n",
    "    \"cryptokitties.csv\",\n",
    "    \"cryptopunks.csv\",\n",
    "    \"cryptoskulls.csv\",\n",
    "    \"cyberkongz_vx.csv\",\n",
    "    \"DeadFellaz.csv\",\n",
    "    \"decentraland_wearables.csv\",\n",
    "    \"doge_pound.csv\",\n",
    "    \"doodles.csv\",\n",
    "    \"dr_ETHvil.csv\",\n",
    "    \"emblem_vaul.csv\",\n",
    "    \"FLUF_world_thingies.csv\",\n",
    "    \"fomo_mofos.csv\",\n",
    "    \"full_send.csv\",\n",
    "    \"hape_prime.csv\",\n",
    "    \"hashmasks.csv\",\n",
    "    \"lil_heroes.csv\",\n",
    "    \"lostpoets.csv\",\n",
    "    \"meebits.csv\",\n",
    "    \"mekaverse.csv\",\n",
    "    \"metroverse.csv\",\n",
    "    \"mutant_ape.csv\",\n",
    "    \"my_curio_cards.csv\",\n",
    "    \"phantabear.csv\",\n",
    "    \"pudgypenguins.csv\",\n",
    "    \"punkcomics.csv\",\n",
    "    \"rarible.csv\",\n",
    "    \"rtfkt.csv\",\n",
    "    \"sorare.csv\",\n",
    "    \"superrare.csv\",\n",
    "    \"wolf_game.csv\",\n",
    "    \"world of women.csv\",\n",
    "    \"wvrps.csv\",\n",
    "    \"x_rabbits.csv\"\n",
    "]"
   ]
  },
  {
   "cell_type": "code",
   "execution_count": 12,
   "id": "150da801-448d-4082-84ab-835dd942a488",
   "metadata": {
    "collapsed": true
   },
   "outputs": [
    {
     "ename": "FileNotFoundError",
     "evalue": "[Errno 2] No such file or directory: 'C:\\\\Users\\\\19044\\\\Documents\\\\Senior Project\\\\NFT-Wash-Analysis/data/0n1_force.csv'",
     "output_type": "error",
     "traceback": [
      "\u001b[1;31m---------------------------------------------------------------------------\u001b[0m",
      "\u001b[1;31mFileNotFoundError\u001b[0m                         Traceback (most recent call last)",
      "Input \u001b[1;32mIn [12]\u001b[0m, in \u001b[0;36m<cell line: 6>\u001b[1;34m()\u001b[0m\n\u001b[0;32m      6\u001b[0m \u001b[38;5;28;01mfor\u001b[39;00m i \u001b[38;5;129;01min\u001b[39;00m \u001b[38;5;28mrange\u001b[39m(\u001b[38;5;241m0\u001b[39m, \u001b[38;5;241m21\u001b[39m):\n\u001b[0;32m      7\u001b[0m     \u001b[38;5;66;03m#Load in the csv\u001b[39;00m\n\u001b[0;32m      8\u001b[0m     bored_ape_location \u001b[38;5;241m=\u001b[39m cwd \u001b[38;5;241m+\u001b[39m \u001b[38;5;124m\"\u001b[39m\u001b[38;5;124m/data/\u001b[39m\u001b[38;5;124m\"\u001b[39m \u001b[38;5;241m+\u001b[39m collectionCSVs[i]\n\u001b[1;32m----> 9\u001b[0m     bored_ape \u001b[38;5;241m=\u001b[39m \u001b[43mpd\u001b[49m\u001b[38;5;241;43m.\u001b[39;49m\u001b[43mread_csv\u001b[49m\u001b[43m(\u001b[49m\u001b[43mbored_ape_location\u001b[49m\u001b[43m,\u001b[49m\u001b[43m \u001b[49m\u001b[43mlow_memory\u001b[49m\u001b[38;5;241;43m=\u001b[39;49m\u001b[38;5;28;43;01mFalse\u001b[39;49;00m\u001b[43m)\u001b[49m\n\u001b[0;32m     11\u001b[0m     \u001b[38;5;66;03m#Infers some column data types to float and int to save some space\u001b[39;00m\n\u001b[0;32m     12\u001b[0m     bored_ape_converted \u001b[38;5;241m=\u001b[39m bored_ape\u001b[38;5;241m.\u001b[39minfer_objects()\n",
      "File \u001b[1;32m~\\AppData\\Roaming\\Python\\Python310\\site-packages\\pandas\\util\\_decorators.py:311\u001b[0m, in \u001b[0;36mdeprecate_nonkeyword_arguments.<locals>.decorate.<locals>.wrapper\u001b[1;34m(*args, **kwargs)\u001b[0m\n\u001b[0;32m    305\u001b[0m \u001b[38;5;28;01mif\u001b[39;00m \u001b[38;5;28mlen\u001b[39m(args) \u001b[38;5;241m>\u001b[39m num_allow_args:\n\u001b[0;32m    306\u001b[0m     warnings\u001b[38;5;241m.\u001b[39mwarn(\n\u001b[0;32m    307\u001b[0m         msg\u001b[38;5;241m.\u001b[39mformat(arguments\u001b[38;5;241m=\u001b[39marguments),\n\u001b[0;32m    308\u001b[0m         \u001b[38;5;167;01mFutureWarning\u001b[39;00m,\n\u001b[0;32m    309\u001b[0m         stacklevel\u001b[38;5;241m=\u001b[39mstacklevel,\n\u001b[0;32m    310\u001b[0m     )\n\u001b[1;32m--> 311\u001b[0m \u001b[38;5;28;01mreturn\u001b[39;00m func(\u001b[38;5;241m*\u001b[39margs, \u001b[38;5;241m*\u001b[39m\u001b[38;5;241m*\u001b[39mkwargs)\n",
      "File \u001b[1;32m~\\AppData\\Roaming\\Python\\Python310\\site-packages\\pandas\\io\\parsers\\readers.py:680\u001b[0m, in \u001b[0;36mread_csv\u001b[1;34m(filepath_or_buffer, sep, delimiter, header, names, index_col, usecols, squeeze, prefix, mangle_dupe_cols, dtype, engine, converters, true_values, false_values, skipinitialspace, skiprows, skipfooter, nrows, na_values, keep_default_na, na_filter, verbose, skip_blank_lines, parse_dates, infer_datetime_format, keep_date_col, date_parser, dayfirst, cache_dates, iterator, chunksize, compression, thousands, decimal, lineterminator, quotechar, quoting, doublequote, escapechar, comment, encoding, encoding_errors, dialect, error_bad_lines, warn_bad_lines, on_bad_lines, delim_whitespace, low_memory, memory_map, float_precision, storage_options)\u001b[0m\n\u001b[0;32m    665\u001b[0m kwds_defaults \u001b[38;5;241m=\u001b[39m _refine_defaults_read(\n\u001b[0;32m    666\u001b[0m     dialect,\n\u001b[0;32m    667\u001b[0m     delimiter,\n\u001b[1;32m   (...)\u001b[0m\n\u001b[0;32m    676\u001b[0m     defaults\u001b[38;5;241m=\u001b[39m{\u001b[38;5;124m\"\u001b[39m\u001b[38;5;124mdelimiter\u001b[39m\u001b[38;5;124m\"\u001b[39m: \u001b[38;5;124m\"\u001b[39m\u001b[38;5;124m,\u001b[39m\u001b[38;5;124m\"\u001b[39m},\n\u001b[0;32m    677\u001b[0m )\n\u001b[0;32m    678\u001b[0m kwds\u001b[38;5;241m.\u001b[39mupdate(kwds_defaults)\n\u001b[1;32m--> 680\u001b[0m \u001b[38;5;28;01mreturn\u001b[39;00m \u001b[43m_read\u001b[49m\u001b[43m(\u001b[49m\u001b[43mfilepath_or_buffer\u001b[49m\u001b[43m,\u001b[49m\u001b[43m \u001b[49m\u001b[43mkwds\u001b[49m\u001b[43m)\u001b[49m\n",
      "File \u001b[1;32m~\\AppData\\Roaming\\Python\\Python310\\site-packages\\pandas\\io\\parsers\\readers.py:575\u001b[0m, in \u001b[0;36m_read\u001b[1;34m(filepath_or_buffer, kwds)\u001b[0m\n\u001b[0;32m    572\u001b[0m _validate_names(kwds\u001b[38;5;241m.\u001b[39mget(\u001b[38;5;124m\"\u001b[39m\u001b[38;5;124mnames\u001b[39m\u001b[38;5;124m\"\u001b[39m, \u001b[38;5;28;01mNone\u001b[39;00m))\n\u001b[0;32m    574\u001b[0m \u001b[38;5;66;03m# Create the parser.\u001b[39;00m\n\u001b[1;32m--> 575\u001b[0m parser \u001b[38;5;241m=\u001b[39m TextFileReader(filepath_or_buffer, \u001b[38;5;241m*\u001b[39m\u001b[38;5;241m*\u001b[39mkwds)\n\u001b[0;32m    577\u001b[0m \u001b[38;5;28;01mif\u001b[39;00m chunksize \u001b[38;5;129;01mor\u001b[39;00m iterator:\n\u001b[0;32m    578\u001b[0m     \u001b[38;5;28;01mreturn\u001b[39;00m parser\n",
      "File \u001b[1;32m~\\AppData\\Roaming\\Python\\Python310\\site-packages\\pandas\\io\\parsers\\readers.py:933\u001b[0m, in \u001b[0;36mTextFileReader.__init__\u001b[1;34m(self, f, engine, **kwds)\u001b[0m\n\u001b[0;32m    930\u001b[0m     \u001b[38;5;28mself\u001b[39m\u001b[38;5;241m.\u001b[39moptions[\u001b[38;5;124m\"\u001b[39m\u001b[38;5;124mhas_index_names\u001b[39m\u001b[38;5;124m\"\u001b[39m] \u001b[38;5;241m=\u001b[39m kwds[\u001b[38;5;124m\"\u001b[39m\u001b[38;5;124mhas_index_names\u001b[39m\u001b[38;5;124m\"\u001b[39m]\n\u001b[0;32m    932\u001b[0m \u001b[38;5;28mself\u001b[39m\u001b[38;5;241m.\u001b[39mhandles: IOHandles \u001b[38;5;241m|\u001b[39m \u001b[38;5;28;01mNone\u001b[39;00m \u001b[38;5;241m=\u001b[39m \u001b[38;5;28;01mNone\u001b[39;00m\n\u001b[1;32m--> 933\u001b[0m \u001b[38;5;28mself\u001b[39m\u001b[38;5;241m.\u001b[39m_engine \u001b[38;5;241m=\u001b[39m \u001b[38;5;28;43mself\u001b[39;49m\u001b[38;5;241;43m.\u001b[39;49m\u001b[43m_make_engine\u001b[49m\u001b[43m(\u001b[49m\u001b[43mf\u001b[49m\u001b[43m,\u001b[49m\u001b[43m \u001b[49m\u001b[38;5;28;43mself\u001b[39;49m\u001b[38;5;241;43m.\u001b[39;49m\u001b[43mengine\u001b[49m\u001b[43m)\u001b[49m\n",
      "File \u001b[1;32m~\\AppData\\Roaming\\Python\\Python310\\site-packages\\pandas\\io\\parsers\\readers.py:1217\u001b[0m, in \u001b[0;36mTextFileReader._make_engine\u001b[1;34m(self, f, engine)\u001b[0m\n\u001b[0;32m   1213\u001b[0m     mode \u001b[38;5;241m=\u001b[39m \u001b[38;5;124m\"\u001b[39m\u001b[38;5;124mrb\u001b[39m\u001b[38;5;124m\"\u001b[39m\n\u001b[0;32m   1214\u001b[0m \u001b[38;5;66;03m# error: No overload variant of \"get_handle\" matches argument types\u001b[39;00m\n\u001b[0;32m   1215\u001b[0m \u001b[38;5;66;03m# \"Union[str, PathLike[str], ReadCsvBuffer[bytes], ReadCsvBuffer[str]]\"\u001b[39;00m\n\u001b[0;32m   1216\u001b[0m \u001b[38;5;66;03m# , \"str\", \"bool\", \"Any\", \"Any\", \"Any\", \"Any\", \"Any\"\u001b[39;00m\n\u001b[1;32m-> 1217\u001b[0m \u001b[38;5;28mself\u001b[39m\u001b[38;5;241m.\u001b[39mhandles \u001b[38;5;241m=\u001b[39m \u001b[43mget_handle\u001b[49m\u001b[43m(\u001b[49m\u001b[43m  \u001b[49m\u001b[38;5;66;43;03m# type: ignore[call-overload]\u001b[39;49;00m\n\u001b[0;32m   1218\u001b[0m \u001b[43m    \u001b[49m\u001b[43mf\u001b[49m\u001b[43m,\u001b[49m\n\u001b[0;32m   1219\u001b[0m \u001b[43m    \u001b[49m\u001b[43mmode\u001b[49m\u001b[43m,\u001b[49m\n\u001b[0;32m   1220\u001b[0m \u001b[43m    \u001b[49m\u001b[43mencoding\u001b[49m\u001b[38;5;241;43m=\u001b[39;49m\u001b[38;5;28;43mself\u001b[39;49m\u001b[38;5;241;43m.\u001b[39;49m\u001b[43moptions\u001b[49m\u001b[38;5;241;43m.\u001b[39;49m\u001b[43mget\u001b[49m\u001b[43m(\u001b[49m\u001b[38;5;124;43m\"\u001b[39;49m\u001b[38;5;124;43mencoding\u001b[39;49m\u001b[38;5;124;43m\"\u001b[39;49m\u001b[43m,\u001b[49m\u001b[43m \u001b[49m\u001b[38;5;28;43;01mNone\u001b[39;49;00m\u001b[43m)\u001b[49m\u001b[43m,\u001b[49m\n\u001b[0;32m   1221\u001b[0m \u001b[43m    \u001b[49m\u001b[43mcompression\u001b[49m\u001b[38;5;241;43m=\u001b[39;49m\u001b[38;5;28;43mself\u001b[39;49m\u001b[38;5;241;43m.\u001b[39;49m\u001b[43moptions\u001b[49m\u001b[38;5;241;43m.\u001b[39;49m\u001b[43mget\u001b[49m\u001b[43m(\u001b[49m\u001b[38;5;124;43m\"\u001b[39;49m\u001b[38;5;124;43mcompression\u001b[39;49m\u001b[38;5;124;43m\"\u001b[39;49m\u001b[43m,\u001b[49m\u001b[43m \u001b[49m\u001b[38;5;28;43;01mNone\u001b[39;49;00m\u001b[43m)\u001b[49m\u001b[43m,\u001b[49m\n\u001b[0;32m   1222\u001b[0m \u001b[43m    \u001b[49m\u001b[43mmemory_map\u001b[49m\u001b[38;5;241;43m=\u001b[39;49m\u001b[38;5;28;43mself\u001b[39;49m\u001b[38;5;241;43m.\u001b[39;49m\u001b[43moptions\u001b[49m\u001b[38;5;241;43m.\u001b[39;49m\u001b[43mget\u001b[49m\u001b[43m(\u001b[49m\u001b[38;5;124;43m\"\u001b[39;49m\u001b[38;5;124;43mmemory_map\u001b[39;49m\u001b[38;5;124;43m\"\u001b[39;49m\u001b[43m,\u001b[49m\u001b[43m \u001b[49m\u001b[38;5;28;43;01mFalse\u001b[39;49;00m\u001b[43m)\u001b[49m\u001b[43m,\u001b[49m\n\u001b[0;32m   1223\u001b[0m \u001b[43m    \u001b[49m\u001b[43mis_text\u001b[49m\u001b[38;5;241;43m=\u001b[39;49m\u001b[43mis_text\u001b[49m\u001b[43m,\u001b[49m\n\u001b[0;32m   1224\u001b[0m \u001b[43m    \u001b[49m\u001b[43merrors\u001b[49m\u001b[38;5;241;43m=\u001b[39;49m\u001b[38;5;28;43mself\u001b[39;49m\u001b[38;5;241;43m.\u001b[39;49m\u001b[43moptions\u001b[49m\u001b[38;5;241;43m.\u001b[39;49m\u001b[43mget\u001b[49m\u001b[43m(\u001b[49m\u001b[38;5;124;43m\"\u001b[39;49m\u001b[38;5;124;43mencoding_errors\u001b[39;49m\u001b[38;5;124;43m\"\u001b[39;49m\u001b[43m,\u001b[49m\u001b[43m \u001b[49m\u001b[38;5;124;43m\"\u001b[39;49m\u001b[38;5;124;43mstrict\u001b[39;49m\u001b[38;5;124;43m\"\u001b[39;49m\u001b[43m)\u001b[49m\u001b[43m,\u001b[49m\n\u001b[0;32m   1225\u001b[0m \u001b[43m    \u001b[49m\u001b[43mstorage_options\u001b[49m\u001b[38;5;241;43m=\u001b[39;49m\u001b[38;5;28;43mself\u001b[39;49m\u001b[38;5;241;43m.\u001b[39;49m\u001b[43moptions\u001b[49m\u001b[38;5;241;43m.\u001b[39;49m\u001b[43mget\u001b[49m\u001b[43m(\u001b[49m\u001b[38;5;124;43m\"\u001b[39;49m\u001b[38;5;124;43mstorage_options\u001b[39;49m\u001b[38;5;124;43m\"\u001b[39;49m\u001b[43m,\u001b[49m\u001b[43m \u001b[49m\u001b[38;5;28;43;01mNone\u001b[39;49;00m\u001b[43m)\u001b[49m\u001b[43m,\u001b[49m\n\u001b[0;32m   1226\u001b[0m \u001b[43m\u001b[49m\u001b[43m)\u001b[49m\n\u001b[0;32m   1227\u001b[0m \u001b[38;5;28;01massert\u001b[39;00m \u001b[38;5;28mself\u001b[39m\u001b[38;5;241m.\u001b[39mhandles \u001b[38;5;129;01mis\u001b[39;00m \u001b[38;5;129;01mnot\u001b[39;00m \u001b[38;5;28;01mNone\u001b[39;00m\n\u001b[0;32m   1228\u001b[0m f \u001b[38;5;241m=\u001b[39m \u001b[38;5;28mself\u001b[39m\u001b[38;5;241m.\u001b[39mhandles\u001b[38;5;241m.\u001b[39mhandle\n",
      "File \u001b[1;32m~\\AppData\\Roaming\\Python\\Python310\\site-packages\\pandas\\io\\common.py:789\u001b[0m, in \u001b[0;36mget_handle\u001b[1;34m(path_or_buf, mode, encoding, compression, memory_map, is_text, errors, storage_options)\u001b[0m\n\u001b[0;32m    784\u001b[0m \u001b[38;5;28;01melif\u001b[39;00m \u001b[38;5;28misinstance\u001b[39m(handle, \u001b[38;5;28mstr\u001b[39m):\n\u001b[0;32m    785\u001b[0m     \u001b[38;5;66;03m# Check whether the filename is to be opened in binary mode.\u001b[39;00m\n\u001b[0;32m    786\u001b[0m     \u001b[38;5;66;03m# Binary mode does not support 'encoding' and 'newline'.\u001b[39;00m\n\u001b[0;32m    787\u001b[0m     \u001b[38;5;28;01mif\u001b[39;00m ioargs\u001b[38;5;241m.\u001b[39mencoding \u001b[38;5;129;01mand\u001b[39;00m \u001b[38;5;124m\"\u001b[39m\u001b[38;5;124mb\u001b[39m\u001b[38;5;124m\"\u001b[39m \u001b[38;5;129;01mnot\u001b[39;00m \u001b[38;5;129;01min\u001b[39;00m ioargs\u001b[38;5;241m.\u001b[39mmode:\n\u001b[0;32m    788\u001b[0m         \u001b[38;5;66;03m# Encoding\u001b[39;00m\n\u001b[1;32m--> 789\u001b[0m         handle \u001b[38;5;241m=\u001b[39m \u001b[38;5;28;43mopen\u001b[39;49m\u001b[43m(\u001b[49m\n\u001b[0;32m    790\u001b[0m \u001b[43m            \u001b[49m\u001b[43mhandle\u001b[49m\u001b[43m,\u001b[49m\n\u001b[0;32m    791\u001b[0m \u001b[43m            \u001b[49m\u001b[43mioargs\u001b[49m\u001b[38;5;241;43m.\u001b[39;49m\u001b[43mmode\u001b[49m\u001b[43m,\u001b[49m\n\u001b[0;32m    792\u001b[0m \u001b[43m            \u001b[49m\u001b[43mencoding\u001b[49m\u001b[38;5;241;43m=\u001b[39;49m\u001b[43mioargs\u001b[49m\u001b[38;5;241;43m.\u001b[39;49m\u001b[43mencoding\u001b[49m\u001b[43m,\u001b[49m\n\u001b[0;32m    793\u001b[0m \u001b[43m            \u001b[49m\u001b[43merrors\u001b[49m\u001b[38;5;241;43m=\u001b[39;49m\u001b[43merrors\u001b[49m\u001b[43m,\u001b[49m\n\u001b[0;32m    794\u001b[0m \u001b[43m            \u001b[49m\u001b[43mnewline\u001b[49m\u001b[38;5;241;43m=\u001b[39;49m\u001b[38;5;124;43m\"\u001b[39;49m\u001b[38;5;124;43m\"\u001b[39;49m\u001b[43m,\u001b[49m\n\u001b[0;32m    795\u001b[0m \u001b[43m        \u001b[49m\u001b[43m)\u001b[49m\n\u001b[0;32m    796\u001b[0m     \u001b[38;5;28;01melse\u001b[39;00m:\n\u001b[0;32m    797\u001b[0m         \u001b[38;5;66;03m# Binary mode\u001b[39;00m\n\u001b[0;32m    798\u001b[0m         handle \u001b[38;5;241m=\u001b[39m \u001b[38;5;28mopen\u001b[39m(handle, ioargs\u001b[38;5;241m.\u001b[39mmode)\n",
      "\u001b[1;31mFileNotFoundError\u001b[0m: [Errno 2] No such file or directory: 'C:\\\\Users\\\\19044\\\\Documents\\\\Senior Project\\\\NFT-Wash-Analysis/data/0n1_force.csv'"
     ]
    }
   ],
   "source": [
    "import requests\n",
    "import pickle\n",
    "\n",
    "#Change range depending on whether you are getting data\n",
    "#for first or second half of list\n",
    "for i in range(0, 21):\n",
    "    #Load in the csv\n",
    "    bored_ape_location = cwd + \"/data/\" + collectionCSVs[i]\n",
    "    bored_ape = pd.read_csv(bored_ape_location, low_memory=False)\n",
    "\n",
    "    #Infers some column data types to float and int to save some space\n",
    "    bored_ape_converted = bored_ape.infer_objects()\n",
    "\n",
    "    #Delete rows without wallet address\n",
    "    bored_ape_converted.dropna(subset=['winner_account_address'], inplace=True)\n",
    "\n",
    "    #bored_ape_converted[['winner_account_address','winner_account_user_username','seller_user_username', 'seller_address']]\n",
    "\n",
    "    #Usernames that are listed as NaN are unnamed on OpenSea but still have a wallet attached.\n",
    "\n",
    "    #Create a dict to store all the transactions\n",
    "    wallet_dict = {}\n",
    "    all_wallet_dict = {}\n",
    "    count = 1;\n",
    "\n",
    "    for seller in bored_ape_converted['seller_user_username']:\n",
    "\n",
    "        if count % 100 == 0:\n",
    "            print(\"Row\" + count)\n",
    "        \n",
    "        #Build a simple request on etherscan to scale up for each seller wallet in opensea data\n",
    "        payload = {'module':'account', \n",
    "                   'action':'txlist', \n",
    "                   'address':address,\n",
    "                   'startblock':'0',\n",
    "                   'endblock':'99999999',\n",
    "                   'page':'0',\n",
    "                   'offset':'0',\n",
    "                   'sort':'asc',\n",
    "                   'apikey':'5PN91CD3CXHJBPY4U3ZPCG86ZHWJUUZHBF'\n",
    "                  }\n",
    "        r = requests.get('https://api.etherscan.io/api', params=payload)\n",
    "\n",
    "        for transaction in r.json()['result']:\n",
    "            if transaction['from'] == address:\n",
    "                wallet_dict[transaction['to']] = 'sent'\n",
    "            else:\n",
    "                wallet_dict[transaction['from']] = 'recieved'\n",
    "        all_wallet_dict[address] = wallet_dict\n",
    "        \n",
    "        #Write collection dictionary to picke file\n",
    "        outFile, sep, tail = collectionCSVs[i].partition('.')\n",
    "        outFile = outFile + '.pkl'\n",
    "        with open(outFile, 'wb+') as f:\n",
    "            pickle.dump(all_wallet_dict, f)\n",
    "        print(\"File saved: \" + outFile)"
   ]
  },
  {
   "cell_type": "code",
   "execution_count": 7,
   "id": "e61a7073-998d-4b98-8005-0330e7e79279",
   "metadata": {
    "collapsed": true
   },
   "outputs": [
    {
     "name": "stdout",
     "output_type": "stream",
     "text": [
      "{'0x8323cc95c6fc88c832086e38869cfe1d834a4980': {'0xc3fbc3f485f0d9b0bd21b13a4aaa8340160156cb': 'recieved', '0xa5409ec958c83c3f309868babaca7c86dcb077c1': 'sent', '0xba30e5f9bb24caa003e9f2f0497ad287fdf95623': 'sent', '0xedd3ee98fd6050d104ccf983cd13948557057a8f': 'sent', '0xd5f76a01d4ebe570a9252f1a8459b44fe8f4b5bd': 'sent', '0xfc007068c862e69213dc7aa817063b1803d4e941': 'sent', '0x45d8f7db9b437efbc74ba6a945a81aaf62dceda7': 'sent', '0x1b829b926a14634d36625e60165c0770c09d02b2': 'sent', '0xc2c747e0f7004f9e8817db2ca4997657a7746928': 'sent', '0x7be8076f4ea4a4ad08075c2508e481d6c946d12b': 'sent', '0xbc4ca0eda7647a8ab7c2061c2e118a18a936f13d': 'sent', '0x1b811fab3618e727d5d38d7e6338262ca372a3ca': 'sent', '0xfcc617a026bc7614db0debc00e72ea37d9ab9317': 'sent', '0x35a5add062f5d164bfecc8b5f2e5da10a09872e9': 'sent', '0xcde1efe3c576c900a257687aa95b2efad7150227': 'sent', '0x91bbc6dcfef7a30505106bf887528218cbda3f83': 'sent', '0xdbc410bd7a9a83c3cbe501a26cabada4a60826e2': 'sent', '0xb80a6253ebbdd2f72fe5b6fd0f87f439aadb11f7': 'sent', '0xef3f6d3403568bee22046345a8b44a623ef076a9': 'sent', '0x07986c37dc04c8ad47c8ea570dd79a821539cd90': 'sent', '0xa3d970abc5d4e20a7fc08fe1f18af41058314a11': 'sent', '0x90dcee0c52774da5e8f745dec478832a7383a06d': 'sent', '0xe9d30eddd11dea8433cf6d2b2c22e9cce94113dc': 'sent', '0x60e4d786628fea6478f785a6d7e704777c86a7c6': 'sent', '0xdabd916389642bd1a354a342bb827b6de853c11d': 'sent', '0x7e9709fb8aa0e9cafc38667f56ea9456d2e79e4e': 'sent', '0xc02aaa39b223fe8d0a0e5c4f27ead9083c756cc2': 'sent', '0x8609075b1944bc2ce9fb48986978725f145d625d': 'sent', '0x8847aa9bd6eb32f9c94e1a541de2d106917df1ef': 'sent', '0xd9e1ce17f2641f24ae83637ab66a2cca9c378b9f': 'sent', '0x6b175474e89094c44da98b954eedeac495271d0f': 'sent', '0x3b484b82567a09e2588a13d54d032153f0c0aee0': 'sent', '0x1e38e9ad28a526512af9b8689c50d91443b6c3db': 'sent', '0xd0b53410454370a482979c0adaf3667c6308a801': 'sent', '0x15d164340c1548fa74fa1b98c24a3ea24fefb177': 'sent', '0x8a90cab2b38dba80c64b7734e58ee1db38b8992e': 'sent', '0x620b70123fb810f6c653da7644b5dd0b6312e4d8': 'sent', '0xa35dce3e0e6ceb67a30b8d7f4aee721c949b5970': 'sent', '0xf4d2888d29d722226fafa5d9b24f9164c092421e': 'sent', '0xbcd7254a1d759efa08ec7c3291b2e85c5dcc12ce': 'sent'}}\n"
     ]
    }
   ],
   "source": [
    "#Shows the result, a dict with the key being the wallet address\n",
    "#and the value being all transacations + type\n",
    "print(all_wallet_dict)"
   ]
  },
  {
   "cell_type": "code",
   "execution_count": 8,
   "id": "b9cd4604-7120-4f43-9202-0986f9f5cdc5",
   "metadata": {},
   "outputs": [],
   "source": [
    "all_wallet_list = []\n",
    "for wallet_id in bored_ape_converted['winner_account_address']:\n",
    "    all_wallet_list.append(wallet_id)\n",
    "#Remove duplicates\n",
    "all_wallet_list = set(all_wallet_list)\n",
    "#all_wallet_list"
   ]
  },
  {
   "cell_type": "markdown",
   "id": "5214c3df-d4b5-4925-8357-62d1d94edd74",
   "metadata": {},
   "source": [
    "# Dont know what the first nan value is but heres where I left off for the day."
   ]
  },
  {
   "cell_type": "markdown",
   "id": "a314dafd-dcf7-4d7e-a030-b341356eff47",
   "metadata": {},
   "source": [
    "## Analysis"
   ]
  },
  {
   "cell_type": "markdown",
   "id": "182f7e2f-2580-4401-a023-05f8a6d5db82",
   "metadata": {},
   "source": [
    "I'll look at the paper again and determine a similar structure of analysis. Market by market, method by method."
   ]
  },
  {
   "cell_type": "code",
   "execution_count": 9,
   "id": "60a5306d-a68c-4b3d-a731-9ebf3c1283d3",
   "metadata": {},
   "outputs": [],
   "source": [
    "##Analysis code here"
   ]
  },
  {
   "cell_type": "markdown",
   "id": "08f2f4ad-f35b-458f-8d34-66fe1c65965d",
   "metadata": {},
   "source": [
    "## Results"
   ]
  },
  {
   "cell_type": "code",
   "execution_count": 10,
   "id": "a71648bf-95a1-40fa-b219-af4d56bfadfd",
   "metadata": {},
   "outputs": [],
   "source": [
    "## Hopefully some interesting results here"
   ]
  }
 ],
 "metadata": {
  "kernelspec": {
   "display_name": "Python 3 (ipykernel)",
   "language": "python",
   "name": "python3"
  },
  "language_info": {
   "codemirror_mode": {
    "name": "ipython",
    "version": 3
   },
   "file_extension": ".py",
   "mimetype": "text/x-python",
   "name": "python",
   "nbconvert_exporter": "python",
   "pygments_lexer": "ipython3",
   "version": "3.10.2"
  }
 },
 "nbformat": 4,
 "nbformat_minor": 5
}
