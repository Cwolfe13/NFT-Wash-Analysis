{
 "cells": [
  {
   "cell_type": "markdown",
   "id": "702f3843-d7c9-4924-809d-75e3f3aa163f",
   "metadata": {},
   "source": [
    "# NFT Wash Trading"
   ]
  },
  {
   "cell_type": "markdown",
   "id": "f31221da-7cf0-4eb6-9c23-97b450aab3f0",
   "metadata": {},
   "source": [
    "Here we can build a lab notebook cell by cell.\n",
    "\n",
    "The first task is to get us both on the same page on what data we'll be using for the project, and then we can work on loading it in and working with it."
   ]
  },
  {
   "cell_type": "markdown",
   "id": "e5f00950-5091-4212-8f71-cbf86a15ba9c",
   "metadata": {},
   "source": [
    "## Data import"
   ]
  },
  {
   "cell_type": "code",
   "execution_count": 1,
   "id": "c4b5125b-7685-49af-9574-374027179842",
   "metadata": {},
   "outputs": [],
   "source": [
    "##Data import code here."
   ]
  },
  {
   "cell_type": "markdown",
   "id": "a314dafd-dcf7-4d7e-a030-b341356eff47",
   "metadata": {},
   "source": [
    "## Analysis"
   ]
  },
  {
   "cell_type": "markdown",
   "id": "182f7e2f-2580-4401-a023-05f8a6d5db82",
   "metadata": {},
   "source": [
    "I'll look at the paper again and determine a similar structure of analysis. Market by market, method by method."
   ]
  },
  {
   "cell_type": "code",
   "execution_count": 2,
   "id": "60a5306d-a68c-4b3d-a731-9ebf3c1283d3",
   "metadata": {},
   "outputs": [],
   "source": [
    "##Analysis code here"
   ]
  },
  {
   "cell_type": "markdown",
   "id": "08f2f4ad-f35b-458f-8d34-66fe1c65965d",
   "metadata": {},
   "source": [
    "## Results"
   ]
  },
  {
   "cell_type": "code",
   "execution_count": 3,
   "id": "a71648bf-95a1-40fa-b219-af4d56bfadfd",
   "metadata": {},
   "outputs": [],
   "source": [
    "## Hopefully some interesting results here"
   ]
  }
 ],
 "metadata": {
  "kernelspec": {
   "display_name": "Python 3 (ipykernel)",
   "language": "python",
   "name": "python3"
  },
  "language_info": {
   "codemirror_mode": {
    "name": "ipython",
    "version": 3
   },
   "file_extension": ".py",
   "mimetype": "text/x-python",
   "name": "python",
   "nbconvert_exporter": "python",
   "pygments_lexer": "ipython3",
   "version": "3.9.9"
  }
 },
 "nbformat": 4,
 "nbformat_minor": 5
}
