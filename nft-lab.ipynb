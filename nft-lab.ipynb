{
 "cells": [
  {
   "cell_type": "markdown",
   "id": "702f3843-d7c9-4924-809d-75e3f3aa163f",
   "metadata": {},
   "source": [
    "# NFT Wash Trading"
   ]
  },
  {
   "cell_type": "markdown",
   "id": "f31221da-7cf0-4eb6-9c23-97b450aab3f0",
   "metadata": {},
   "source": [
    "Here we can build a lab notebook cell by cell.\n",
    "\n",
    "The first task is to get us both on the same page on what data we'll be using for the project, and then we can work on loading it in and working with it."
   ]
  },
  {
   "cell_type": "markdown",
   "id": "e5f00950-5091-4212-8f71-cbf86a15ba9c",
   "metadata": {},
   "source": [
    "## Data import"
   ]
  },
  {
   "cell_type": "code",
   "execution_count": 1,
   "id": "c4b5125b-7685-49af-9574-374027179842",
   "metadata": {},
   "outputs": [],
   "source": [
    "##Data import code here.\n",
    "import os\n",
    "import pandas as pd\n",
    "cwd = os.getcwd()\n",
    "bored_ape_location = cwd + '/data/bored_ape.csv'"
   ]
  },
  {
   "cell_type": "code",
   "execution_count": 2,
   "id": "150da801-448d-4082-84ab-835dd942a488",
   "metadata": {},
   "outputs": [],
   "source": [
    "#Load in the csv\n",
    "bored_ape = pd.read_csv(bored_ape_location, low_memory=False)"
   ]
  },
  {
   "cell_type": "code",
   "execution_count": 3,
   "id": "848182eb-b01c-4e08-aa3e-733c7b45c85a",
   "metadata": {},
   "outputs": [],
   "source": [
    "#Infers some column data types to float and int to save some space\n",
    "bored_ape_converted = bored_ape.infer_objects()"
   ]
  },
  {
   "cell_type": "code",
   "execution_count": 4,
   "id": "aa942355-c19f-42e0-bdfe-62558b20d500",
   "metadata": {},
   "outputs": [
    {
     "data": {
      "text/html": [
       "<div>\n",
       "<style scoped>\n",
       "    .dataframe tbody tr th:only-of-type {\n",
       "        vertical-align: middle;\n",
       "    }\n",
       "\n",
       "    .dataframe tbody tr th {\n",
       "        vertical-align: top;\n",
       "    }\n",
       "\n",
       "    .dataframe thead th {\n",
       "        text-align: right;\n",
       "    }\n",
       "</style>\n",
       "<table border=\"1\" class=\"dataframe\">\n",
       "  <thead>\n",
       "    <tr style=\"text-align: right;\">\n",
       "      <th></th>\n",
       "      <th>winner_account_address</th>\n",
       "      <th>winner_account_user_username</th>\n",
       "      <th>seller_user_username</th>\n",
       "      <th>seller_address</th>\n",
       "    </tr>\n",
       "  </thead>\n",
       "  <tbody>\n",
       "    <tr>\n",
       "      <th>0</th>\n",
       "      <td>0x05a9d39e168fd7aca02970be894aea848d85bd33</td>\n",
       "      <td>jrb1013</td>\n",
       "      <td>NaN</td>\n",
       "      <td>0x0141fdeaea923168899a134f2caf724f89a228aa</td>\n",
       "    </tr>\n",
       "    <tr>\n",
       "      <th>1</th>\n",
       "      <td>0x053c07c8c7d6cb9b6e78c9df3436cfb0fd72b1de</td>\n",
       "      <td>TP777</td>\n",
       "      <td>ApeFatherVault</td>\n",
       "      <td>0x1edcccddb214cd3c20613708d9c9ead9cd2476db</td>\n",
       "    </tr>\n",
       "    <tr>\n",
       "      <th>2</th>\n",
       "      <td>0x3d216c627351e53669f138fd6e1e3e1f31b5dff0</td>\n",
       "      <td>Moo_0x3d</td>\n",
       "      <td>PVNKS-Vault</td>\n",
       "      <td>0x8323cc95c6fc88c832086e38869cfe1d834a4980</td>\n",
       "    </tr>\n",
       "    <tr>\n",
       "      <th>3</th>\n",
       "      <td>0x62261bae83431db16d01589256e9b39e0d46079e</td>\n",
       "      <td>allidoiswinwinwin</td>\n",
       "      <td>0xed4701</td>\n",
       "      <td>0xed47015bb8080b9399f9d0ddfc427b9cee2caab1</td>\n",
       "    </tr>\n",
       "    <tr>\n",
       "      <th>4</th>\n",
       "      <td>0xd8e749e457fcd1918c9a589bfaa87db9f8e154d6</td>\n",
       "      <td>NaN</td>\n",
       "      <td>NaN</td>\n",
       "      <td>0xe399b5a5fa209b96ceac7c05cf301f2968eebbbd</td>\n",
       "    </tr>\n",
       "    <tr>\n",
       "      <th>...</th>\n",
       "      <td>...</td>\n",
       "      <td>...</td>\n",
       "      <td>...</td>\n",
       "      <td>...</td>\n",
       "    </tr>\n",
       "    <tr>\n",
       "      <th>26517</th>\n",
       "      <td>0x09238a2aa20600e9773990677d17fef91e688523</td>\n",
       "      <td>shariq911</td>\n",
       "      <td>6942069</td>\n",
       "      <td>0x9795a9baac2f17e7c7f11686bc6bc2afc3d84612</td>\n",
       "    </tr>\n",
       "    <tr>\n",
       "      <th>26518</th>\n",
       "      <td>0x09238a2aa20600e9773990677d17fef91e688523</td>\n",
       "      <td>shariq911</td>\n",
       "      <td>1sadboi1</td>\n",
       "      <td>0x3d6a89c8751a45dd577a4c1f3b34e71c58236193</td>\n",
       "    </tr>\n",
       "    <tr>\n",
       "      <th>26519</th>\n",
       "      <td>0x09238a2aa20600e9773990677d17fef91e688523</td>\n",
       "      <td>shariq911</td>\n",
       "      <td>1sadboi1</td>\n",
       "      <td>0x3d6a89c8751a45dd577a4c1f3b34e71c58236193</td>\n",
       "    </tr>\n",
       "    <tr>\n",
       "      <th>26520</th>\n",
       "      <td>0x0b742783bfac8d4b6d332e5d1b63f433fcd8c0a0</td>\n",
       "      <td>Cryptobeanz_Deployer</td>\n",
       "      <td>madeinmanc</td>\n",
       "      <td>0x88be3fa60ede9f532af10aba5690dfc254db929b</td>\n",
       "    </tr>\n",
       "    <tr>\n",
       "      <th>26521</th>\n",
       "      <td>0x0b742783bfac8d4b6d332e5d1b63f433fcd8c0a0</td>\n",
       "      <td>Cryptobeanz_Deployer</td>\n",
       "      <td>ChewieShotFirst</td>\n",
       "      <td>0x8e05bd9fa3059ec69c15bc1a6f4d94f0ac26ce00</td>\n",
       "    </tr>\n",
       "  </tbody>\n",
       "</table>\n",
       "<p>26522 rows × 4 columns</p>\n",
       "</div>"
      ],
      "text/plain": [
       "                           winner_account_address  \\\n",
       "0      0x05a9d39e168fd7aca02970be894aea848d85bd33   \n",
       "1      0x053c07c8c7d6cb9b6e78c9df3436cfb0fd72b1de   \n",
       "2      0x3d216c627351e53669f138fd6e1e3e1f31b5dff0   \n",
       "3      0x62261bae83431db16d01589256e9b39e0d46079e   \n",
       "4      0xd8e749e457fcd1918c9a589bfaa87db9f8e154d6   \n",
       "...                                           ...   \n",
       "26517  0x09238a2aa20600e9773990677d17fef91e688523   \n",
       "26518  0x09238a2aa20600e9773990677d17fef91e688523   \n",
       "26519  0x09238a2aa20600e9773990677d17fef91e688523   \n",
       "26520  0x0b742783bfac8d4b6d332e5d1b63f433fcd8c0a0   \n",
       "26521  0x0b742783bfac8d4b6d332e5d1b63f433fcd8c0a0   \n",
       "\n",
       "      winner_account_user_username seller_user_username  \\\n",
       "0                          jrb1013                  NaN   \n",
       "1                            TP777       ApeFatherVault   \n",
       "2                         Moo_0x3d          PVNKS-Vault   \n",
       "3                allidoiswinwinwin             0xed4701   \n",
       "4                              NaN                  NaN   \n",
       "...                            ...                  ...   \n",
       "26517                    shariq911              6942069   \n",
       "26518                    shariq911             1sadboi1   \n",
       "26519                    shariq911             1sadboi1   \n",
       "26520         Cryptobeanz_Deployer           madeinmanc   \n",
       "26521         Cryptobeanz_Deployer      ChewieShotFirst   \n",
       "\n",
       "                                   seller_address  \n",
       "0      0x0141fdeaea923168899a134f2caf724f89a228aa  \n",
       "1      0x1edcccddb214cd3c20613708d9c9ead9cd2476db  \n",
       "2      0x8323cc95c6fc88c832086e38869cfe1d834a4980  \n",
       "3      0xed47015bb8080b9399f9d0ddfc427b9cee2caab1  \n",
       "4      0xe399b5a5fa209b96ceac7c05cf301f2968eebbbd  \n",
       "...                                           ...  \n",
       "26517  0x9795a9baac2f17e7c7f11686bc6bc2afc3d84612  \n",
       "26518  0x3d6a89c8751a45dd577a4c1f3b34e71c58236193  \n",
       "26519  0x3d6a89c8751a45dd577a4c1f3b34e71c58236193  \n",
       "26520  0x88be3fa60ede9f532af10aba5690dfc254db929b  \n",
       "26521  0x8e05bd9fa3059ec69c15bc1a6f4d94f0ac26ce00  \n",
       "\n",
       "[26522 rows x 4 columns]"
      ]
     },
     "execution_count": 4,
     "metadata": {},
     "output_type": "execute_result"
    }
   ],
   "source": [
    "bored_ape_converted[['winner_account_address','winner_account_user_username','seller_user_username', 'seller_address']]"
   ]
  },
  {
   "cell_type": "markdown",
   "id": "aa3da50c-d3fe-4760-ae50-b7e3fe87cf3c",
   "metadata": {},
   "source": [
    "Usernames that are listed as NaN are unnamed on OpenSea but still have a wallet attached."
   ]
  },
  {
   "cell_type": "code",
   "execution_count": 5,
   "id": "aa9bbb97-fbc3-4d78-911a-7aed9c95d72a",
   "metadata": {},
   "outputs": [],
   "source": [
    "#Build a simple request on etherscan to scale up for each seller wallet in opensea data\n",
    "import requests\n",
    "#Arbitrary address for testing, when this is in a loop it should read from the panda/csv\n",
    "address = '0x8323cc95c6fc88c832086e38869cfe1d834a4980'\n",
    "payload = {'module':'account', \n",
    "           'action':'txlist', \n",
    "           'address':address,\n",
    "           'startblock':'0',\n",
    "           'endblock':'99999999',\n",
    "           'page':'0',\n",
    "           'offset':'0',\n",
    "           'sort':'asc',\n",
    "           'apikey':'5PN91CD3CXHJBPY4U3ZPCG86ZHWJUUZHBF'\n",
    "          }\n",
    "r = requests.get('https://api.etherscan.io/api', params=payload)\n",
    "#Create a dict to store all the transactions\n",
    "wallet_dict = {}\n",
    "all_wallet_dict = {}"
   ]
  },
  {
   "cell_type": "code",
   "execution_count": 6,
   "id": "6beb0811-5fbd-4100-b464-08629a4dfbb9",
   "metadata": {},
   "outputs": [],
   "source": [
    "for transaction in r.json()['result']:\n",
    "    if transaction['from'] == address:\n",
    "        wallet_dict[transaction['to']] = 'sent'\n",
    "    else:\n",
    "        wallet_dict[transaction['from']] = 'recieved'\n",
    "all_wallet_dict[address] = wallet_dict"
   ]
  },
  {
   "cell_type": "code",
   "execution_count": 7,
   "id": "e61a7073-998d-4b98-8005-0330e7e79279",
   "metadata": {},
   "outputs": [
    {
     "name": "stdout",
     "output_type": "stream",
     "text": [
      "{'0x8323cc95c6fc88c832086e38869cfe1d834a4980': {'0xc3fbc3f485f0d9b0bd21b13a4aaa8340160156cb': 'recieved', '0xa5409ec958c83c3f309868babaca7c86dcb077c1': 'sent', '0xba30e5f9bb24caa003e9f2f0497ad287fdf95623': 'sent', '0xedd3ee98fd6050d104ccf983cd13948557057a8f': 'sent', '0xd5f76a01d4ebe570a9252f1a8459b44fe8f4b5bd': 'sent', '0xfc007068c862e69213dc7aa817063b1803d4e941': 'sent', '0x45d8f7db9b437efbc74ba6a945a81aaf62dceda7': 'sent', '0x1b829b926a14634d36625e60165c0770c09d02b2': 'sent', '0xc2c747e0f7004f9e8817db2ca4997657a7746928': 'sent', '0x7be8076f4ea4a4ad08075c2508e481d6c946d12b': 'sent', '0xbc4ca0eda7647a8ab7c2061c2e118a18a936f13d': 'sent', '0x1b811fab3618e727d5d38d7e6338262ca372a3ca': 'sent', '0xfcc617a026bc7614db0debc00e72ea37d9ab9317': 'sent', '0x35a5add062f5d164bfecc8b5f2e5da10a09872e9': 'sent', '0xcde1efe3c576c900a257687aa95b2efad7150227': 'sent', '0x91bbc6dcfef7a30505106bf887528218cbda3f83': 'sent', '0xdbc410bd7a9a83c3cbe501a26cabada4a60826e2': 'sent', '0xb80a6253ebbdd2f72fe5b6fd0f87f439aadb11f7': 'sent', '0xef3f6d3403568bee22046345a8b44a623ef076a9': 'sent', '0x07986c37dc04c8ad47c8ea570dd79a821539cd90': 'sent', '0xa3d970abc5d4e20a7fc08fe1f18af41058314a11': 'sent', '0x90dcee0c52774da5e8f745dec478832a7383a06d': 'sent', '0xe9d30eddd11dea8433cf6d2b2c22e9cce94113dc': 'sent', '0x60e4d786628fea6478f785a6d7e704777c86a7c6': 'sent', '0xdabd916389642bd1a354a342bb827b6de853c11d': 'sent', '0x7e9709fb8aa0e9cafc38667f56ea9456d2e79e4e': 'sent', '0xc02aaa39b223fe8d0a0e5c4f27ead9083c756cc2': 'sent', '0x8609075b1944bc2ce9fb48986978725f145d625d': 'sent', '0x8847aa9bd6eb32f9c94e1a541de2d106917df1ef': 'sent', '0xd9e1ce17f2641f24ae83637ab66a2cca9c378b9f': 'sent', '0x6b175474e89094c44da98b954eedeac495271d0f': 'sent', '0x3b484b82567a09e2588a13d54d032153f0c0aee0': 'sent', '0x1e38e9ad28a526512af9b8689c50d91443b6c3db': 'sent', '0xd0b53410454370a482979c0adaf3667c6308a801': 'sent', '0x15d164340c1548fa74fa1b98c24a3ea24fefb177': 'sent', '0x8a90cab2b38dba80c64b7734e58ee1db38b8992e': 'sent', '0x620b70123fb810f6c653da7644b5dd0b6312e4d8': 'sent', '0xa35dce3e0e6ceb67a30b8d7f4aee721c949b5970': 'sent', '0xf4d2888d29d722226fafa5d9b24f9164c092421e': 'sent', '0xbcd7254a1d759efa08ec7c3291b2e85c5dcc12ce': 'sent'}}\n"
     ]
    }
   ],
   "source": [
    "#Shows the result, a dict with the key being the wallet address\n",
    "#and the value being all transacations + type\n",
    "print(all_wallet_dict)"
   ]
  },
  {
   "cell_type": "code",
   "execution_count": 8,
   "id": "b9cd4604-7120-4f43-9202-0986f9f5cdc5",
   "metadata": {},
   "outputs": [],
   "source": [
    "all_wallet_list = []\n",
    "for wallet_id in bored_ape_converted['winner_account_address']:\n",
    "    all_wallet_list.append(wallet_id)\n",
    "#Remove duplicates\n",
    "all_wallet_list = set(all_wallet_list)\n",
    "#all_wallet_list"
   ]
  },
  {
   "cell_type": "markdown",
   "id": "5214c3df-d4b5-4925-8357-62d1d94edd74",
   "metadata": {},
   "source": [
    "# Dont know what the first nan value is but heres where I left off for the day."
   ]
  },
  {
   "cell_type": "markdown",
   "id": "a314dafd-dcf7-4d7e-a030-b341356eff47",
   "metadata": {},
   "source": [
    "## Analysis"
   ]
  },
  {
   "cell_type": "markdown",
   "id": "182f7e2f-2580-4401-a023-05f8a6d5db82",
   "metadata": {},
   "source": [
    "I'll look at the paper again and determine a similar structure of analysis. Market by market, method by method."
   ]
  },
  {
   "cell_type": "code",
   "execution_count": 9,
   "id": "60a5306d-a68c-4b3d-a731-9ebf3c1283d3",
   "metadata": {},
   "outputs": [],
   "source": [
    "##Analysis code here"
   ]
  },
  {
   "cell_type": "markdown",
   "id": "08f2f4ad-f35b-458f-8d34-66fe1c65965d",
   "metadata": {},
   "source": [
    "## Results"
   ]
  },
  {
   "cell_type": "code",
   "execution_count": 10,
   "id": "a71648bf-95a1-40fa-b219-af4d56bfadfd",
   "metadata": {},
   "outputs": [],
   "source": [
    "## Hopefully some interesting results here"
   ]
  }
 ],
 "metadata": {
  "kernelspec": {
   "display_name": "Python 3 (ipykernel)",
   "language": "python",
   "name": "python3"
  },
  "language_info": {
   "codemirror_mode": {
    "name": "ipython",
    "version": 3
   },
   "file_extension": ".py",
   "mimetype": "text/x-python",
   "name": "python",
   "nbconvert_exporter": "python",
   "pygments_lexer": "ipython3",
   "version": "3.9.9"
  }
 },
 "nbformat": 4,
 "nbformat_minor": 5
}
