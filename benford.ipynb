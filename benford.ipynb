{
 "cells": [
  {
   "cell_type": "markdown",
   "id": "ddd3c938-d094-487a-9e27-434d1a815d1c",
   "metadata": {},
   "source": [
    "# Trade Size Distributions and Befords Law"
   ]
  },
  {
   "cell_type": "markdown",
   "id": "5c5ac0e9-dcc8-4708-9fbf-abcff4c4ccd9",
   "metadata": {},
   "source": [
    "## Bored Ape Collection"
   ]
  },
  {
   "cell_type": "code",
   "execution_count": 71,
   "id": "d70af7df-0e81-4b2f-b01f-a60547b5aabb",
   "metadata": {},
   "outputs": [],
   "source": [
    "import os\n",
    "import pandas as pd\n",
    "import numpy as np\n",
    "import matplotlib.pyplot as plt"
   ]
  },
  {
   "cell_type": "code",
   "execution_count": 3,
   "id": "2478dab7-5587-4908-8036-c2c102c1f289",
   "metadata": {},
   "outputs": [],
   "source": [
    "def first_sig_fig(number):\n",
    "    \"\"\"Returns the first significant digit of a provided number as string\n",
    "    \n",
    "    Parameters\n",
    "    ----------\n",
    "    number: The number whose first significant digit will be returned\n",
    "    \n",
    "    Raises\n",
    "    ------\n",
    "    TypeError: If the provided variable is not a number a TypeError will be raised\n",
    "    \"\"\"\n",
    "    #Check that what is provided is actually a number\n",
    "    if type(number) != int and type(number) != float and isinstance(number, numpy) == False:\n",
    "        raise TypeError(f\"{number} is not a number, it is of type {type(number)}\")\n",
    "    #Turn number into string so that it's iterable\n",
    "    snumber = str(number)\n",
    "    #Sentinel value to determine if we've hit the decimals yet.\n",
    "    decimal_encountered = False\n",
    "    for i in range(0,len(snumber)):\n",
    "        if snumber[i].isdigit():\n",
    "            temp = snumber[i]\n",
    "            if snumber[i] == '0':\n",
    "                pass\n",
    "            else:\n",
    "                return snumber[i]\n",
    "        else:\n",
    "            pass"
   ]
  },
  {
   "cell_type": "code",
   "execution_count": 4,
   "id": "8a003d4f-e3c6-492f-8cd6-eac43b35cf60",
   "metadata": {},
   "outputs": [],
   "source": [
    "def benford(array):\n",
    "    \"\"\"Takes in an array of prices as int or float and returns \n",
    "    the distribution of the first significant digit as a dict of each \n",
    "    digit and the respective count.\n",
    "    \n",
    "    Parameters\n",
    "    ----------\n",
    "    array: The numpy array to work with\n",
    "    \"\"\"\n",
    "    c1, c2, c3, c4, c5, c6, c7, c8, c9 = 0, 0, 0, 0, 0, 0, 0, 0, 0\n",
    "    for value in array:\n",
    "        if first_sig_fig(value) == '1':\n",
    "            c1 += 1\n",
    "        elif first_sig_fig(value) == '2':\n",
    "            c2 += 1\n",
    "        elif first_sig_fig(value) == '3':\n",
    "            c3 += 1\n",
    "        elif first_sig_fig(value) == '4':\n",
    "            c4 += 1\n",
    "        elif first_sig_fig(value) == '5':\n",
    "            c5 += 1\n",
    "        elif first_sig_fig(value) == '6':\n",
    "            c6 += 1\n",
    "        elif first_sig_fig(value) == '7':\n",
    "            c7 += 1\n",
    "        elif first_sig_fig(value) == '8':\n",
    "            c8 += 1\n",
    "        elif first_sig_fig(value) == '9':\n",
    "            c9 += 1\n",
    "        else:\n",
    "            raise Exception(f\"First sig fig is not a number 1-9\")\n",
    "    counts = {'1':c1, '2':c2, '3':c3, '4':c4, '5':c5, '6':c6, '7':c7, '8':c8, '9':c9}\n",
    "    return counts"
   ]
  },
  {
   "cell_type": "code",
   "execution_count": 5,
   "id": "c0fe9c7d-ef63-4cd2-a1cf-330b7405534d",
   "metadata": {},
   "outputs": [],
   "source": [
    "def clean_panda(dataframe):\n",
    "    \"\"\"Takes in a Panda dataframe read from an opensea csv, drops bad rows, \n",
    "    bundle data, non ETH transactions then deletes original panda from memory.\n",
    "    \n",
    "    Params\n",
    "    ------\n",
    "    panda - The panda to take in\n",
    "    \n",
    "    Returns\n",
    "    -------\n",
    "    cleaned_dataframe - The cleaned dataframe\"\"\"\n",
    "    \n",
    "    def main(dataframe):\n",
    "        dataframe = drop_bad_rows(dataframe)\n",
    "        dataframe = drop_bundle(dataframe)\n",
    "        dataframe = drop_nETH(dataframe)\n",
    "        dataframe.reset_index(inplace=True, drop=True)\n",
    "        return dataframe\n",
    "    \n",
    "    def drop_bad_rows(dataframe):\n",
    "        ret = dataframe.dropna(subset=['total_price'])\n",
    "        return ret\n",
    "    \n",
    "    def drop_bundle(dataframe):\n",
    "        return dataframe.iloc[:, 1:150]\n",
    "    \n",
    "    def drop_nETH(dataframe):\n",
    "        #What happens if there are no non ETH indices?\n",
    "        bad_indices = dataframe[(dataframe.payment_token_id != 1) & (dataframe.payment_token_id != 2)].index\n",
    "        ret = dataframe.drop(bad_indices)\n",
    "        return ret\n",
    "    \n",
    "    return main(dataframe)"
   ]
  },
  {
   "cell_type": "code",
   "execution_count": 6,
   "id": "0ac3f4e2-ffa0-4fba-a849-0406c28a02e0",
   "metadata": {},
   "outputs": [],
   "source": [
    "def make_adjprice(dataframe):\n",
    "        #Make an adj_price column to represent ETH price\n",
    "        adj_price = dataframe.apply(lambda row: float(row.total_price) / (10**row.payment_token_decimals), axis = 1)\n",
    "        return adj_price\n",
    "cwd = os.getcwd()\n",
    "#Load in initial panda\n",
    "bored_ape_location = cwd + \"/data/bored_ape.csv\"\n",
    "bored_ape = pd.read_csv(bored_ape_location, low_memory=False)"
   ]
  },
  {
   "cell_type": "code",
   "execution_count": 7,
   "id": "b5b90165-40db-40f2-b897-f8fdc22425cf",
   "metadata": {},
   "outputs": [],
   "source": [
    "bored_ape = clean_panda(bored_ape)"
   ]
  },
  {
   "cell_type": "code",
   "execution_count": 8,
   "id": "2eba076e-72c5-47cd-b5b9-dc0f66d65580",
   "metadata": {},
   "outputs": [],
   "source": [
    "bored_ape['adj_price'] = make_adjprice(bored_ape)"
   ]
  },
  {
   "cell_type": "code",
   "execution_count": 9,
   "id": "e2b9cf7f-d88e-4283-9c72-c5dd0a5888c8",
   "metadata": {},
   "outputs": [
    {
     "data": {
      "text/plain": [
       "<AxesSubplot:>"
      ]
     },
     "execution_count": 9,
     "metadata": {},
     "output_type": "execute_result"
    },
    {
     "data": {
      "image/png": "[encoded data removed]",
      "text/plain": [
       "<Figure size 432x288 with 1 Axes>"
      ]
     },
     "metadata": {
      "needs_background": "light"
     },
     "output_type": "display_data"
    }
   ],
   "source": [
    "bored_ape.plot(y='adj_price', c='red')"
   ]
  },
  {
   "cell_type": "code",
   "execution_count": 10,
   "id": "5257a351-3b7b-498c-9867-7ee18141e1b8",
   "metadata": {},
   "outputs": [
    {
     "data": {
      "text/plain": [
       "24385     64.990000\n",
       "24386     69.690000\n",
       "24387     78.000000\n",
       "24388     78.000000\n",
       "24389     65.200000\n",
       "24390     66.000000\n",
       "24391     69.690000\n",
       "24392     77.000000\n",
       "24393     64.000000\n",
       "24394    180.000000\n",
       "24395     63.800000\n",
       "24396     66.000000\n",
       "24397      0.005432\n",
       "24398     61.800000\n",
       "24399     66.000000\n",
       "24400     94.490000\n",
       "24401     62.000000\n",
       "24402     64.500000\n",
       "24403     75.000000\n",
       "24404     69.000000\n",
       "24405     70.000000\n",
       "24406     66.250000\n",
       "24407     60.000000\n",
       "24408     60.000000\n",
       "24409    169.000000\n",
       "24410     66.100000\n",
       "24411    155.000000\n",
       "24412     82.500000\n",
       "24413     64.980000\n",
       "24414     69.680000\n",
       "24415     60.000000\n",
       "24416    105.000000\n",
       "24417     62.000000\n",
       "24418     65.000000\n",
       "24419     69.000000\n",
       "24420     69.690000\n",
       "24421     63.790000\n",
       "24422     69.000000\n",
       "24423     77.690000\n",
       "24424     69.420000\n",
       "24425     65.000000\n",
       "24426     60.000000\n",
       "24427     59.970000\n",
       "24428     85.000000\n",
       "24429     52.000000\n",
       "24430     64.000000\n",
       "24431     76.880000\n",
       "24432     64.690000\n",
       "24433     67.000000\n",
       "24434    123.450000\n",
       "Name: adj_price, dtype: float64"
      ]
     },
     "execution_count": 10,
     "metadata": {},
     "output_type": "execute_result"
    }
   ],
   "source": [
    "bored_ape['adj_price'].tail(50)"
   ]
  },
  {
   "cell_type": "code",
   "execution_count": 88,
   "id": "ba61784e-a387-49a2-9335-a6bb5c915d51",
   "metadata": {},
   "outputs": [],
   "source": [
    "def roundness_check(adj_prices):\n",
    "    def last_sig_fig(number):\n",
    "        \"\"\"Returns an integer indicating how many places after the decimal the last significant digit is. 1 returned is considered to be \n",
    "        the tenths place, while -1 would indicate the ones place\n",
    "        \n",
    "        Params\n",
    "        ------\n",
    "        number - the number to find the last sigfig of\n",
    "        \n",
    "        Returns\n",
    "        -------\n",
    "        The integer representation of the last sigfig's place\"\"\"\n",
    "        \n",
    "        if type(number) != float and type(number) != int:\n",
    "            raise ValueError(f'{number} is neither a float or int')\n",
    "        \n",
    "        #Convert to string to use indexing\n",
    "        strnum = str(number)\n",
    "        \n",
    "        def calc_ones(strnum):\n",
    "            last_sig_index = -9999\n",
    "            #Strip decimal if we have one\n",
    "            if '.' in strnum:\n",
    "                strnum = strnum[0:strnum.rfind('.')]\n",
    "            #Get length -1 for range\n",
    "            length = len(strnum)\n",
    "            for i in range(0, length):\n",
    "                if strnum[i] != '0':\n",
    "                    last_sig_index = i\n",
    "            if last_sig_index != -9999:\n",
    "                return -(len(strnum) - last_sig_index)\n",
    "            else:\n",
    "                #Edge case where we're processing 0.0\n",
    "                return -1\n",
    "            \n",
    "        #0 and 1 can both be confused in boolean expressions, uses a decided 'null' value instead.\n",
    "        last_sig_index = -9999\n",
    "        if '.' in strnum:\n",
    "            #rfinds gets the index of last .\n",
    "            dec_loc = strnum.rfind('.')\n",
    "            for i in range(dec_loc+1, (len(strnum))):\n",
    "                #Zeros after the . will never be the last sigfig\n",
    "                if strnum[i]!='0':\n",
    "                    last_sig_index = i\n",
    "            #We found sigfig past decimal\n",
    "            if last_sig_index != -9999:\n",
    "                #Return the last occurence, but first calculate the place:\n",
    "                return last_sig_index-dec_loc\n",
    "        #If there isnt a decimal, or we didn't find a sigfig past\n",
    "        return calc_ones(strnum)\n",
    "    \n",
    "    counts = np.empty(0)\n",
    "    for adj_price in adj_prices:\n",
    "        #Find the last significant digit\n",
    "        place = last_sig_fig(adj_price)\n",
    "        counts = np.append(counts, place)\n",
    "        \"\"\"if (place < -4) | (place > 5) | (place == 0):\n",
    "            raise Exception(f'Sigfig was: {place} and adj_price = {adj_price}' +\n",
    "                            '. Considered outside of the realized bounds, and therefore has not been accounted for')\"\"\"\n",
    "        \"\"\"#Then increment the list\n",
    "        if place == -4:\n",
    "            thousands = thousands+1\n",
    "        elif place == -3:\n",
    "            hundreds = hundreds+1\n",
    "        elif place == -2:\n",
    "            tens = tens + 1\n",
    "        elif place == -1:\n",
    "            ones = ones + 1\n",
    "        elif place == 1:\n",
    "            tenths = tenths + 1\n",
    "        elif place == 2:\n",
    "            hundreths = hundreths + 1\n",
    "        elif place == 3:\n",
    "            thousandths = thousandths + 1\n",
    "        elif place == 4:\n",
    "            ten_thousandths = ten_thousandths + 1\n",
    "        elif place == 5:\n",
    "            hundred_thousandths = hundred_thousandths + 1\n",
    "            \n",
    "    return {'hundred_thousandths':hundred_thousandths, 'ten_thousandths':ten_thousandths, 'hundreths': hundreths, 'tenths': tenths, \n",
    "           'ones':ones, 'tens':tens, 'hundreds':hundreds, 'thousands':thousands}\"\"\"\n",
    "    number, occurrences = np.unique(counts, return_counts=True)\n",
    "    returndict = {}\n",
    "    j = 0\n",
    "    for i in number:\n",
    "        returndict[f'{i}']=occurrences[j]\n",
    "        j = j + 1\n",
    "    return returndict"
   ]
  },
  {
   "cell_type": "code",
   "execution_count": 69,
   "id": "9ce97eb9-6a65-494d-99ea-5cbb154e68b4",
   "metadata": {},
   "outputs": [],
   "source": [
    "#np_counts = roundness_check(bored_ape['adj_price'])\n"
   ]
  },
  {
   "cell_type": "code",
   "execution_count": 73,
   "id": "d999ebbe-1e43-4505-b535-eae7894a75ef",
   "metadata": {},
   "outputs": [],
   "source": [
    "def prep_pie(np_counts):\n",
    "    labels = []\n",
    "    counts = []\n",
    "    for i in test:\n",
    "        labels.append(i)\n",
    "        counts.append(test[i])\n",
    "    return labels, counts"
   ]
  },
  {
   "cell_type": "code",
   "execution_count": 72,
   "id": "278fdfc4",
   "metadata": {},
   "outputs": [
    {
     "data": {
      "image/png": "[encoded data removed]",
      "text/plain": [
       "<Figure size 432x288 with 1 Axes>"
      ]
     },
     "metadata": {},
     "output_type": "display_data"
    }
   ],
   "source": [
    "fig1, ax1 = plt.subplots()\n",
    "ax1.pie(counts, labels=labels, autopct='%1.1f%%',\n",
    "        shadow=True, startangle=90)\n",
    "ax1.axis('equal')  # Equal aspect ratio ensures that pie is drawn as a circle.\n",
    "\n",
    "plt.show()"
   ]
  },
  {
   "cell_type": "markdown",
   "id": "7d16ee90",
   "metadata": {},
   "source": [
    "For chi squared test after this there is an 'expected value' that we need, need to look into how to calculate that value."
   ]
  },
  {
   "cell_type": "code",
   "execution_count": 76,
   "id": "57daf402",
   "metadata": {},
   "outputs": [],
   "source": [
    "#Load in another panda\n",
    "fomo_location = cwd + \"/data/fomo_mofos.csv\"\n",
    "fomo = pd.read_csv(fomo_location, low_memory=False)"
   ]
  },
  {
   "cell_type": "code",
   "execution_count": 77,
   "id": "7ab1d87e",
   "metadata": {},
   "outputs": [],
   "source": [
    "fomo = clean_panda(fomo)\n",
    "fomo['adj_price'] = make_adjprice(fomo)"
   ]
  },
  {
   "cell_type": "code",
   "execution_count": 78,
   "id": "926635e6",
   "metadata": {},
   "outputs": [
    {
     "data": {
      "text/plain": [
       "count    11285.000000\n",
       "mean         0.583211\n",
       "std          0.538061\n",
       "min          0.000000\n",
       "25%          0.420000\n",
       "50%          0.489000\n",
       "75%          0.650000\n",
       "max         20.000000\n",
       "Name: adj_price, dtype: float64"
      ]
     },
     "execution_count": 78,
     "metadata": {},
     "output_type": "execute_result"
    }
   ],
   "source": [
    "fomo['adj_price'].describe()"
   ]
  },
  {
   "cell_type": "code",
   "execution_count": 89,
   "id": "ff2c55e5",
   "metadata": {},
   "outputs": [],
   "source": [
    "a = roundness_check(fomo['adj_price'])"
   ]
  },
  {
   "cell_type": "code",
   "execution_count": 92,
   "id": "7b4fa16a",
   "metadata": {},
   "outputs": [
    {
     "data": {
      "image/png": "[encoded data removed]",
      "text/plain": [
       "<Figure size 432x288 with 1 Axes>"
      ]
     },
     "metadata": {},
     "output_type": "display_data"
    }
   ],
   "source": [
    "labels, counts = prep_pie(a)\n",
    "fig1, ax1 = plt.subplots()\n",
    "ax1.pie(counts, labels=labels, autopct='%1.1f%%',\n",
    "        shadow=True, startangle=90)\n",
    "ax1.axis('equal')  # Equal aspect ratio ensures that pie is drawn as a circle.\n",
    "\n",
    "plt.show()"
   ]
  }
 ],
 "metadata": {
  "kernelspec": {
   "display_name": "Python 3 (ipykernel)",
   "language": "python",
   "name": "python3"
  },
  "language_info": {
   "codemirror_mode": {
    "name": "ipython",
    "version": 3
   },
   "file_extension": ".py",
   "mimetype": "text/x-python",
   "name": "python",
   "nbconvert_exporter": "python",
   "pygments_lexer": "ipython3",
   "version": "3.9.9"
  }
 },
 "nbformat": 4,
 "nbformat_minor": 5
}
