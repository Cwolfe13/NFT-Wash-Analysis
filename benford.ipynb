{
 "cells": [
  {
   "cell_type": "markdown",
   "id": "ddd3c938-d094-487a-9e27-434d1a815d1c",
   "metadata": {},
   "source": [
    "# Trade Size Distributions and Befords Law"
   ]
  },
  {
   "cell_type": "markdown",
   "id": "5c5ac0e9-dcc8-4708-9fbf-abcff4c4ccd9",
   "metadata": {},
   "source": [
    "## Bored Ape Collection"
   ]
  },
  {
   "cell_type": "code",
   "execution_count": 212,
   "id": "d70af7df-0e81-4b2f-b01f-a60547b5aabb",
   "metadata": {},
   "outputs": [],
   "source": [
    "import os\n",
    "import pandas as pd\n",
    "cwd = os.getcwd()\n",
    "#Load in the csv\n",
    "bored_ape_location = cwd + \"/data/bored_ape.csv\"\n",
    "bored_ape = pd.read_csv(bored_ape_location, low_memory=False)\n",
    "bored_ape_converted = bored_ape"
   ]
  },
  {
   "cell_type": "code",
   "execution_count": 214,
   "id": "c11539c5-af7c-4c23-a375-ba22f1adb780",
   "metadata": {},
   "outputs": [
    {
     "name": "stdout",
     "output_type": "stream",
     "text": [
      "<class 'pandas.core.frame.DataFrame'>\n",
      "RangeIndex: 32314 entries, 0 to 32313\n",
      "Columns: 1468 entries, Unnamed: 0 to asset_bundle_assets_16_owner_config\n",
      "dtypes: float64(613), int64(1), object(854)\n",
      "memory usage: 361.9+ MB\n"
     ]
    }
   ],
   "source": [
    "bored_ape_converted.info()"
   ]
  },
  {
   "cell_type": "code",
   "execution_count": 201,
   "id": "d64797fb-7bb9-4dff-b510-e5e523fae7da",
   "metadata": {},
   "outputs": [
    {
     "name": "stdout",
     "output_type": "stream",
     "text": [
      "<class 'pandas.core.frame.DataFrame'>\n",
      "Int64Index: 24449 entries, 126 to 32313\n",
      "Columns: 1468 entries, Unnamed: 0 to asset_bundle_assets_16_owner_config\n",
      "dtypes: float64(613), int64(1), object(854)\n",
      "memory usage: 274.0+ MB\n"
     ]
    }
   ],
   "source": [
    "bored_ape_converted.dropna(subset=['total_price'], inplace=True)\n",
    "bored_ape_converted.info()"
   ]
  },
  {
   "cell_type": "code",
   "execution_count": 202,
   "id": "eac158db-1ef3-45e2-b54a-f85f1f36fcab",
   "metadata": {},
   "outputs": [],
   "source": [
    "prices = pd.DataFrame(bored_ape_converted['total_price'])"
   ]
  },
  {
   "cell_type": "code",
   "execution_count": 203,
   "id": "4e32a2e9-4425-4a6a-b4e2-1becce407fdb",
   "metadata": {},
   "outputs": [
    {
     "data": {
      "text/html": [
       "<div>\n",
       "<style scoped>\n",
       "    .dataframe tbody tr th:only-of-type {\n",
       "        vertical-align: middle;\n",
       "    }\n",
       "\n",
       "    .dataframe tbody tr th {\n",
       "        vertical-align: top;\n",
       "    }\n",
       "\n",
       "    .dataframe thead th {\n",
       "        text-align: right;\n",
       "    }\n",
       "</style>\n",
       "<table border=\"1\" class=\"dataframe\">\n",
       "  <thead>\n",
       "    <tr style=\"text-align: right;\">\n",
       "      <th></th>\n",
       "      <th>total_price</th>\n",
       "    </tr>\n",
       "  </thead>\n",
       "  <tbody>\n",
       "    <tr>\n",
       "      <th>126</th>\n",
       "      <td>36880000000000000000</td>\n",
       "    </tr>\n",
       "    <tr>\n",
       "      <th>127</th>\n",
       "      <td>40000000000000000000</td>\n",
       "    </tr>\n",
       "    <tr>\n",
       "      <th>128</th>\n",
       "      <td>40000000000000000000</td>\n",
       "    </tr>\n",
       "    <tr>\n",
       "      <th>129</th>\n",
       "      <td>33460000000000000000</td>\n",
       "    </tr>\n",
       "    <tr>\n",
       "      <th>130</th>\n",
       "      <td>99000000000000000000</td>\n",
       "    </tr>\n",
       "    <tr>\n",
       "      <th>131</th>\n",
       "      <td>55000000000000000000</td>\n",
       "    </tr>\n",
       "    <tr>\n",
       "      <th>253</th>\n",
       "      <td>1000000000000000</td>\n",
       "    </tr>\n",
       "    <tr>\n",
       "      <th>254</th>\n",
       "      <td>42690000000000000000</td>\n",
       "    </tr>\n",
       "    <tr>\n",
       "      <th>255</th>\n",
       "      <td>43490000000000000000</td>\n",
       "    </tr>\n",
       "    <tr>\n",
       "      <th>256</th>\n",
       "      <td>38000000000000000000</td>\n",
       "    </tr>\n",
       "  </tbody>\n",
       "</table>\n",
       "</div>"
      ],
      "text/plain": [
       "              total_price\n",
       "126  36880000000000000000\n",
       "127  40000000000000000000\n",
       "128  40000000000000000000\n",
       "129  33460000000000000000\n",
       "130  99000000000000000000\n",
       "131  55000000000000000000\n",
       "253      1000000000000000\n",
       "254  42690000000000000000\n",
       "255  43490000000000000000\n",
       "256  38000000000000000000"
      ]
     },
     "execution_count": 203,
     "metadata": {},
     "output_type": "execute_result"
    }
   ],
   "source": [
    "prices.head(10)"
   ]
  },
  {
   "cell_type": "code",
   "execution_count": 204,
   "id": "68dc1238-9b32-4f05-9bb4-8f5c40e9d253",
   "metadata": {},
   "outputs": [
    {
     "data": {
      "text/plain": [
       "total_price    object\n",
       "dtype: object"
      ]
     },
     "execution_count": 204,
     "metadata": {},
     "output_type": "execute_result"
    }
   ],
   "source": [
    "prices.dtypes"
   ]
  },
  {
   "cell_type": "code",
   "execution_count": 205,
   "id": "2478dab7-5587-4908-8036-c2c102c1f289",
   "metadata": {},
   "outputs": [],
   "source": [
    "def first_sig_fig(number):\n",
    "    \"\"\"Returns the first significant digit of a provided number as string\n",
    "    \n",
    "    Parameters\n",
    "    ----------\n",
    "    number: The number whose first significant digit will be returned\n",
    "    \n",
    "    Raises\n",
    "    ------\n",
    "    TypeError: If the provided variable is not a number a TypeError will be raised\n",
    "    \"\"\"\n",
    "    #Check that what is provided is actually a number\n",
    "    if type(number) != int and type(number) != float and isinstance(number, numpy) == False:\n",
    "        raise TypeError(f\"{number} is not a number, it is of type {type(number)}\")\n",
    "    #Turn number into string so that it's iterable\n",
    "    snumber = str(number)\n",
    "    #Sentinel value to determine if we've hit the decimals yet.\n",
    "    decimal_encountered = False\n",
    "    for i in range(0,len(snumber)):\n",
    "        if snumber[i].isdigit():\n",
    "            temp = snumber[i]\n",
    "            if snumber[i] == '0':\n",
    "                pass\n",
    "            else:\n",
    "                return snumber[i]\n",
    "        else:\n",
    "            pass"
   ]
  },
  {
   "cell_type": "code",
   "execution_count": 206,
   "id": "8a003d4f-e3c6-492f-8cd6-eac43b35cf60",
   "metadata": {},
   "outputs": [],
   "source": [
    "def benford(array):\n",
    "    \"\"\"Takes in an array of prices as int or float and returns \n",
    "    the distribution of the first significant digit as a dict of each \n",
    "    digit and the respective count.\n",
    "    \n",
    "    Parameters\n",
    "    ----------\n",
    "    array: The numpy array to work with\n",
    "    \"\"\"\n",
    "    c1, c2, c3, c4, c5, c6, c7, c8, c9 = 0, 0, 0, 0, 0, 0, 0, 0, 0\n",
    "    for value in array:\n",
    "        if first_sig_fig(value) == '1':\n",
    "            c1 += 1\n",
    "        elif first_sig_fig(value) == '2':\n",
    "            c2 += 1\n",
    "        elif first_sig_fig(value) == '3':\n",
    "            c3 += 1\n",
    "        elif first_sig_fig(value) == '4':\n",
    "            c4 += 1\n",
    "        elif first_sig_fig(value) == '5':\n",
    "            c5 += 1\n",
    "        elif first_sig_fig(value) == '6':\n",
    "            c6 += 1\n",
    "        elif first_sig_fig(value) == '7':\n",
    "            c7 += 1\n",
    "        elif first_sig_fig(value) == '8':\n",
    "            c8 += 1\n",
    "        elif first_sig_fig(value) == '9':\n",
    "            c9 += 1\n",
    "        else:\n",
    "            raise Exception(f\"First sig fig is not a number 1-9\")\n",
    "    counts = {'1':c1, '2':c2, '3':c3, '4':c4, '5':c5, '6':c6, '7':c7, '8':c8, '9':c9}\n",
    "    return counts"
   ]
  },
  {
   "cell_type": "code",
   "execution_count": 207,
   "id": "7d8f5fae-deba-45c3-8a92-920e717da1c2",
   "metadata": {},
   "outputs": [],
   "source": [
    "#For some reason, all of the prices are in float, and have a bunch of trailing zeros\n",
    "#This lambda function removes all the trailing zeros\n",
    "temp = bored_ape_converted['total_price'].map(lambda price: price.rstrip('0'))"
   ]
  },
  {
   "cell_type": "code",
   "execution_count": 208,
   "id": "6010f616-9ab6-4fb4-83d7-7b0e1dca13cc",
   "metadata": {},
   "outputs": [
    {
     "data": {
      "text/plain": [
       "126       3688\n",
       "127          4\n",
       "128          4\n",
       "129       3346\n",
       "130         99\n",
       "         ...  \n",
       "32309       64\n",
       "32310     7688\n",
       "32311     6469\n",
       "32312       67\n",
       "32313    12345\n",
       "Name: total_price, Length: 24449, dtype: object"
      ]
     },
     "execution_count": 208,
     "metadata": {},
     "output_type": "execute_result"
    }
   ],
   "source": [
    "temp\n",
    "#type(bored_ape_converted['payment_token_usd_price'])\n",
    "#bored_ape_converted['payment_token_usd_price'].info()\n",
    "#finalprice = temp.mul(bored_ape_converted['payment_token_usd_price'])"
   ]
  },
  {
   "cell_type": "code",
   "execution_count": 216,
   "id": "b4c64e6f-6049-48e9-bd45-815273fec9b9",
   "metadata": {},
   "outputs": [
    {
     "data": {
      "text/plain": [
       "7865"
      ]
     },
     "execution_count": 216,
     "metadata": {},
     "output_type": "execute_result"
    }
   ],
   "source": [
    "bored_ape_converted['payment_token_usd_price'].isna().sum()"
   ]
  },
  {
   "cell_type": "code",
   "execution_count": 217,
   "id": "c09cc33e-d469-4868-96a0-de916d294495",
   "metadata": {},
   "outputs": [
    {
     "data": {
      "text/plain": [
       "0"
      ]
     },
     "execution_count": 217,
     "metadata": {},
     "output_type": "execute_result"
    }
   ],
   "source": [
    "temp.isna().sum()"
   ]
  },
  {
   "cell_type": "code",
   "execution_count": null,
   "id": "c0fe9c7d-ef63-4cd2-a1cf-330b7405534d",
   "metadata": {},
   "outputs": [],
   "source": []
  }
 ],
 "metadata": {
  "kernelspec": {
   "display_name": "Python 3 (ipykernel)",
   "language": "python",
   "name": "python3"
  },
  "language_info": {
   "codemirror_mode": {
    "name": "ipython",
    "version": 3
   },
   "file_extension": ".py",
   "mimetype": "text/x-python",
   "name": "python",
   "nbconvert_exporter": "python",
   "pygments_lexer": "ipython3",
   "version": "3.9.9"
  }
 },
 "nbformat": 4,
 "nbformat_minor": 5
}
