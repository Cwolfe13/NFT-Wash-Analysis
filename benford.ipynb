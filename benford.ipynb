{
 "cells": [
  {
   "cell_type": "markdown",
   "id": "ddd3c938-d094-487a-9e27-434d1a815d1c",
   "metadata": {},
   "source": [
    "# Trade Size Distributions and Befords Law"
   ]
  },
  {
   "cell_type": "code",
   "execution_count": 57,
   "id": "d70af7df-0e81-4b2f-b01f-a60547b5aabb",
   "metadata": {},
   "outputs": [],
   "source": [
    "import os\n",
    "import pandas as pd\n",
    "import numpy as np\n",
    "import matplotlib.pyplot as plt\n",
    "import powerlaw\n",
    "cwd = os.getcwd()\n",
    "#List of csv collections\n",
    "collectionCSVs = [\n",
    "    \"0n1_force.csv\",\n",
    "    \"axie_infinity.csv\",\n",
    "    \"azuki.csv\",\n",
    "    \"bored_ape.csv\",\n",
    "    \"clone_x.csv\",\n",
    "    \"coolmonkes.csv\",\n",
    "    \"creature_world.csv\",\n",
    "    \"creepz_reptile.csv\",\n",
    "    \"creeps.csv\",\n",
    "    \"cryptoadz.csv\",\n",
    "    \"cryptobatz.csv\",\n",
    "    \"cryptokitties.csv\",\n",
    "    \"cryptopunks.csv\",\n",
    "    \"cryptoskulls.csv\",\n",
    "    \"cyberkongz_vx.csv\",\n",
    "    \"DeadFellaz.csv\",\n",
    "    \"decentraland_wearables.csv\",\n",
    "    \"doge_pound.csv\",\n",
    "    \"doodles.csv\",\n",
    "    \"dr_ETHvil.csv\",\n",
    "    \"emblem_vaul.csv\",\n",
    "    \"FLUF_world_thingies.csv\",\n",
    "    \"fomo_mofos.csv\",\n",
    "    \"full_send.csv\",\n",
    "    \"hape_prime.csv\",\n",
    "    \"hashmasks.csv\",\n",
    "    \"lil_heroes.csv\",\n",
    "    \"lostpoets.csv\",\n",
    "    \"meebits.csv\",\n",
    "    \"mekaverse.csv\",\n",
    "    \"metroverse.csv\",\n",
    "    \"mutant_ape.csv\",\n",
    "    \"my_curio_cards.csv\",\n",
    "    \"phantabear.csv\",\n",
    "    \"pudgypenguins.csv\",\n",
    "    \"punkcomics.csv\",\n",
    "    \"rarible.csv\",\n",
    "    \"rtfkt.csv\",\n",
    "    \"sorare.csv\",\n",
    "    \"superrare.csv\",\n",
    "    \"wolf_game.csv\",\n",
    "    \"world of women.csv\",\n",
    "    \"wvrps.csv\",\n",
    "    \"x_rabbits.csv\"\n",
    "]"
   ]
  },
  {
   "cell_type": "code",
   "execution_count": 7,
   "id": "2478dab7-5587-4908-8036-c2c102c1f289",
   "metadata": {},
   "outputs": [],
   "source": [
    "def first_sig_fig(number):\n",
    "    \"\"\"Returns the first significant digit of a provided number as string\n",
    "    \n",
    "    Parameters\n",
    "    ----------\n",
    "    number: The number whose first significant digit will be returned\n",
    "    \n",
    "    Raises\n",
    "    ------\n",
    "    TypeError: If the provided variable is not a number a TypeError will be raised\n",
    "    \"\"\"\n",
    "    #Check that what is provided is actually a number\n",
    "    if type(number) != int and type(number) != float and isinstance(number, numpy) == False:\n",
    "        raise TypeError(f\"{number} is not a number, it is of type {type(number)}\")\n",
    "    #Turn number into string so that it's iterable\n",
    "    snumber = str(number)\n",
    "    #Sentinel value to determine if we've hit the decimals yet.\n",
    "    decimal_encountered = False\n",
    "    for i in range(0,len(snumber)):\n",
    "        if snumber[i].isdigit():\n",
    "            temp = snumber[i]\n",
    "            if snumber[i] == '0':\n",
    "                pass\n",
    "            else:\n",
    "                return snumber[i]\n",
    "        else:\n",
    "            pass"
   ]
  },
  {
   "cell_type": "code",
   "execution_count": 8,
   "id": "8a003d4f-e3c6-492f-8cd6-eac43b35cf60",
   "metadata": {},
   "outputs": [],
   "source": [
    "def benford(array):\n",
    "    \"\"\"Takes in an array of prices as int or float and returns \n",
    "    the distribution of the first significant digit as a dict of each \n",
    "    digit and the respective count.\n",
    "    \n",
    "    Parameters\n",
    "    ----------\n",
    "    array: The numpy array to work with\n",
    "    \"\"\"\n",
    "    c1, c2, c3, c4, c5, c6, c7, c8, c9 = 0, 0, 0, 0, 0, 0, 0, 0, 0\n",
    "    for value in array:\n",
    "        if first_sig_fig(value) == '1':\n",
    "            c1 += 1\n",
    "        elif first_sig_fig(value) == '2':\n",
    "            c2 += 1\n",
    "        elif first_sig_fig(value) == '3':\n",
    "            c3 += 1\n",
    "        elif first_sig_fig(value) == '4':\n",
    "            c4 += 1\n",
    "        elif first_sig_fig(value) == '5':\n",
    "            c5 += 1\n",
    "        elif first_sig_fig(value) == '6':\n",
    "            c6 += 1\n",
    "        elif first_sig_fig(value) == '7':\n",
    "            c7 += 1\n",
    "        elif first_sig_fig(value) == '8':\n",
    "            c8 += 1\n",
    "        elif first_sig_fig(value) == '9':\n",
    "            c9 += 1\n",
    "        else:\n",
    "            raise Exception(f\"First sig fig is not a number 1-9\")\n",
    "    counts = {'1':c1, '2':c2, '3':c3, '4':c4, '5':c5, '6':c6, '7':c7, '8':c8, '9':c9}\n",
    "    return counts"
   ]
  },
  {
   "cell_type": "code",
   "execution_count": 9,
   "id": "c0fe9c7d-ef63-4cd2-a1cf-330b7405534d",
   "metadata": {},
   "outputs": [],
   "source": [
    "def clean_panda(dataframe):\n",
    "    \"\"\"Takes in a Panda dataframe read from an opensea csv, drops bad rows, \n",
    "    bundle data, non ETH transactions then deletes original panda from memory.\n",
    "    \n",
    "    Params\n",
    "    ------\n",
    "    panda - The panda to take in\n",
    "    \n",
    "    Returns\n",
    "    -------\n",
    "    cleaned_dataframe - The cleaned dataframe\"\"\"\n",
    "    \n",
    "    def main(dataframe):\n",
    "        dataframe = drop_bad_rows(dataframe)\n",
    "        dataframe = drop_bundle(dataframe)\n",
    "        dataframe = drop_nETH(dataframe)\n",
    "        dataframe.reset_index(inplace=True, drop=True)\n",
    "        return dataframe\n",
    "    \n",
    "    def drop_bad_rows(dataframe):\n",
    "        ret = dataframe.dropna(subset=['total_price'])\n",
    "        return ret\n",
    "    \n",
    "    def drop_bundle(dataframe):\n",
    "        return dataframe.iloc[:, 1:150]\n",
    "    \n",
    "    def drop_nETH(dataframe):\n",
    "        #What happens if there are no non ETH indices?\n",
    "        bad_indices = dataframe[(dataframe.payment_token_id != 1) & (dataframe.payment_token_id != 2)].index\n",
    "        ret = dataframe.drop(bad_indices)\n",
    "        return ret\n",
    "    \n",
    "    return main(dataframe)"
   ]
  },
  {
   "cell_type": "code",
   "execution_count": 55,
   "id": "0ac3f4e2-ffa0-4fba-a849-0406c28a02e0",
   "metadata": {},
   "outputs": [],
   "source": [
    "def make_adjprice(dataframe):\n",
    "        #Make an adj_price column to represent ETH price\n",
    "        adj_price = dataframe.apply(lambda row: float(row.total_price) / (10**row.payment_token_decimals), axis = 1)\n",
    "        return adj_price"
   ]
  },
  {
   "cell_type": "code",
   "execution_count": 84,
   "id": "ba61784e-a387-49a2-9335-a6bb5c915d51",
   "metadata": {},
   "outputs": [],
   "source": [
    "def roundness_check(adj_prices):\n",
    "    def last_sig_fig(number):\n",
    "        \"\"\"Returns an integer indicating how many places after the decimal the last significant digit is. 1 returned is considered to be \n",
    "        the tenths place, while -1 would indicate the ones place\n",
    "        \n",
    "        Params\n",
    "        ------\n",
    "        number - the number to find the last sigfig of\n",
    "        \n",
    "        Returns\n",
    "        -------\n",
    "        The integer representation of the last sigfig's place\"\"\"\n",
    "        \n",
    "        if type(number) != float and type(number) != int:\n",
    "            raise ValueError(f'{number} is neither a float or int')\n",
    "        \n",
    "        #Convert to string to use indexing\n",
    "        strnum = str(number)\n",
    "        \n",
    "        def calc_ones(strnum):\n",
    "            last_sig_index = -9999\n",
    "            #Strip decimal if we have one\n",
    "            if '.' in strnum:\n",
    "                strnum = strnum[0:strnum.rfind('.')]\n",
    "            #Get length -1 for range\n",
    "            length = len(strnum)\n",
    "            for i in range(0, length):\n",
    "                if strnum[i] != '0':\n",
    "                    last_sig_index = i\n",
    "            if last_sig_index != -9999:\n",
    "                return -(len(strnum) - last_sig_index)\n",
    "            else:\n",
    "                #Edge case where we're processing 0.0\n",
    "                return -1\n",
    "            \n",
    "        #0 and 1 can both be confused in boolean expressions, uses a decided 'null' value instead.\n",
    "        last_sig_index = -9999\n",
    "        if '.' in strnum:\n",
    "            #rfinds gets the index of last .\n",
    "            dec_loc = strnum.rfind('.')\n",
    "            for i in range(dec_loc+1, (len(strnum))):\n",
    "                #Zeros after the . will never be the last sigfig\n",
    "                if strnum[i]!='0':\n",
    "                    last_sig_index = i\n",
    "            #We found sigfig past decimal\n",
    "            if last_sig_index != -9999:\n",
    "                #Return the last occurence, but first calculate the place:\n",
    "                return last_sig_index-dec_loc\n",
    "        #If there isnt a decimal, or we didn't find a sigfig past\n",
    "        return calc_ones(strnum)\n",
    "    \n",
    "    counts = np.empty(0)\n",
    "    for adj_price in adj_prices:\n",
    "        #Find the last significant digit\n",
    "        place = last_sig_fig(adj_price)\n",
    "        counts = np.append(counts, place)\n",
    "        \"\"\"if (place < -4) | (place > 5) | (place == 0):\n",
    "            raise Exception(f'Sigfig was: {place} and adj_price = {adj_price}' +\n",
    "                            '. Considered outside of the realized bounds, and therefore has not been accounted for')\"\"\"\n",
    "        \"\"\"#Then increment the list\n",
    "        if place == -4:\n",
    "            thousands = thousands+1\n",
    "        elif place == -3:\n",
    "            hundreds = hundreds+1\n",
    "        elif place == -2:\n",
    "            tens = tens + 1\n",
    "        elif place == -1:\n",
    "            ones = ones + 1\n",
    "        elif place == 1:\n",
    "            tenths = tenths + 1\n",
    "        elif place == 2:\n",
    "            hundreths = hundreths + 1\n",
    "        elif place == 3:\n",
    "            thousandths = thousandths + 1\n",
    "        elif place == 4:\n",
    "            ten_thousandths = ten_thousandths + 1\n",
    "        elif place == 5:\n",
    "            hundred_thousandths = hundred_thousandths + 1\n",
    "            \n",
    "    return {'hundred_thousandths':hundred_thousandths, 'ten_thousandths':ten_thousandths, 'hundreths': hundreths, 'tenths': tenths, \n",
    "           'ones':ones, 'tens':tens, 'hundreds':hundreds, 'thousands':thousands}\"\"\"\n",
    "    number, occurrences = np.unique(counts, return_counts=True)\n",
    "    returndict = {}\n",
    "    j = 0\n",
    "    for i in number:\n",
    "        returndict[f'{i}']=occurrences[j]\n",
    "        j = j + 1\n",
    "    return returndict"
   ]
  },
  {
   "cell_type": "code",
   "execution_count": 83,
   "id": "d999ebbe-1e43-4505-b535-eae7894a75ef",
   "metadata": {},
   "outputs": [],
   "source": [
    "def prep_pie(np_counts):\n",
    "    labels = []\n",
    "    counts = []\n",
    "    for i in test:\n",
    "        labels.append(i)\n",
    "        counts.append(test[i])\n",
    "    return labels, counts"
   ]
  },
  {
   "cell_type": "code",
   "execution_count": 82,
   "id": "716e79a0",
   "metadata": {},
   "outputs": [],
   "source": [
    "def make_first_sig(adj_price):\n",
    "    series = []\n",
    "    for i in adj_price:\n",
    "        series.append(first_sig_fig(i))\n",
    "    return series"
   ]
  },
  {
   "cell_type": "code",
   "execution_count": 72,
   "id": "278fdfc4",
   "metadata": {},
   "outputs": [
    {
     "data": {
      "image/png": "[encoded data removed]",
      "text/plain": [
       "<Figure size 432x288 with 1 Axes>"
      ]
     },
     "metadata": {},
     "output_type": "display_data"
    }
   ],
   "source": [
    "fig1, ax1 = plt.subplots()\n",
    "ax1.pie(counts, labels=labels, autopct='%1.1f%%',\n",
    "        shadow=True, startangle=90)\n",
    "ax1.axis('equal')  # Equal aspect ratio ensures that pie is drawn as a circle.\n",
    "\n",
    "plt.show()"
   ]
  },
  {
   "cell_type": "markdown",
   "id": "7d16ee90",
   "metadata": {},
   "source": [
    "For chi squared test after this there is an 'expected value' that we need, need to look into how to calculate that value."
   ]
  },
  {
   "cell_type": "code",
   "execution_count": 12,
   "id": "57daf402",
   "metadata": {},
   "outputs": [],
   "source": [
    "#Load in another panda\n",
    "fomo_location = cwd + \"/data/fomo_mofos.csv\"\n",
    "fomo = pd.read_csv(fomo_location, low_memory=False)"
   ]
  },
  {
   "cell_type": "code",
   "execution_count": 13,
   "id": "7ab1d87e",
   "metadata": {},
   "outputs": [],
   "source": [
    "fomo = clean_panda(fomo)\n",
    "fomo['adj_price'] = make_adjprice(fomo)"
   ]
  },
  {
   "cell_type": "code",
   "execution_count": 14,
   "id": "926635e6",
   "metadata": {},
   "outputs": [
    {
     "data": {
      "text/plain": [
       "count    11285.000000\n",
       "mean         0.583211\n",
       "std          0.538061\n",
       "min          0.000000\n",
       "25%          0.420000\n",
       "50%          0.489000\n",
       "75%          0.650000\n",
       "max         20.000000\n",
       "Name: adj_price, dtype: float64"
      ]
     },
     "execution_count": 14,
     "metadata": {},
     "output_type": "execute_result"
    }
   ],
   "source": [
    "fomo['adj_price'].describe()"
   ]
  },
  {
   "cell_type": "markdown",
   "id": "e3769363",
   "metadata": {},
   "source": [
    "## Check for roundness"
   ]
  },
  {
   "cell_type": "code",
   "execution_count": 89,
   "id": "ff2c55e5",
   "metadata": {},
   "outputs": [],
   "source": [
    "a = roundness_check(fomo['adj_price'])"
   ]
  },
  {
   "cell_type": "code",
   "execution_count": 92,
   "id": "7b4fa16a",
   "metadata": {},
   "outputs": [
    {
     "data": {
      "image/png": "[encoded data removed]",
      "text/plain": [
       "<Figure size 432x288 with 1 Axes>"
      ]
     },
     "metadata": {},
     "output_type": "display_data"
    }
   ],
   "source": [
    "labels, counts = prep_pie(a)\n",
    "fig1, ax1 = plt.subplots()\n",
    "ax1.pie(counts, labels=labels, autopct='%1.1f%%',\n",
    "        shadow=True, startangle=90)\n",
    "ax1.axis('equal')  # Equal aspect ratio ensures that pie is drawn as a circle.\n",
    "\n",
    "plt.show()"
   ]
  },
  {
   "cell_type": "markdown",
   "id": "f16ac7a1",
   "metadata": {},
   "source": [
    "### Making the first sig key for the panda"
   ]
  },
  {
   "cell_type": "code",
   "execution_count": 47,
   "id": "543bec54",
   "metadata": {},
   "outputs": [],
   "source": [
    "first_sig = make_first_sig(fomo['adj_price'])\n"
   ]
  },
  {
   "cell_type": "code",
   "execution_count": 48,
   "id": "357a7da5",
   "metadata": {},
   "outputs": [],
   "source": [
    "fomo['eth_first_sig'] = first_sig"
   ]
  },
  {
   "cell_type": "markdown",
   "id": "6f26c11a",
   "metadata": {},
   "source": [
    "## First Significant Digit in ETH"
   ]
  },
  {
   "cell_type": "code",
   "execution_count": 49,
   "id": "fe14f398",
   "metadata": {},
   "outputs": [],
   "source": [
    "fomo_first_counts = fomo['first_sig'].value_counts()"
   ]
  },
  {
   "cell_type": "code",
   "execution_count": 50,
   "id": "60b1795a",
   "metadata": {},
   "outputs": [
    {
     "data": {
      "text/plain": [
       "<AxesSubplot:>"
      ]
     },
     "execution_count": 50,
     "metadata": {},
     "output_type": "execute_result"
    },
    {
     "data": {
      "image/png": "[encoded data removed]",
      "text/plain": [
       "<Figure size 432x288 with 1 Axes>"
      ]
     },
     "metadata": {
      "needs_background": "light"
     },
     "output_type": "display_data"
    }
   ],
   "source": [
    "fomo_first_counts.plot(kind='bar')"
   ]
  },
  {
   "cell_type": "markdown",
   "id": "5e27c513",
   "metadata": {},
   "source": [
    "## First Significant Digit in USD converted from ETH"
   ]
  },
  {
   "cell_type": "code",
   "execution_count": 40,
   "id": "e9fc92f5",
   "metadata": {},
   "outputs": [],
   "source": [
    "def make_usdprice(adj_price, payment_token_eth_price):\n",
    "    series = []\n",
    "    for i, j in zip(adj_price, payment_token_eth_price):\n",
    "        series.append(i*j)\n",
    "    return series"
   ]
  },
  {
   "cell_type": "code",
   "execution_count": 45,
   "id": "d8f0f8cb",
   "metadata": {},
   "outputs": [
    {
     "data": {
      "text/plain": [
       "0    1074.3040\n",
       "1    1074.3040\n",
       "2     980.3024\n",
       "3    1074.3040\n",
       "4    1074.3040\n",
       "Name: usd_price, dtype: float64"
      ]
     },
     "execution_count": 45,
     "metadata": {},
     "output_type": "execute_result"
    }
   ],
   "source": [
    "fomo['usd_price'] = make_usdprice(fomo['adj_price'], fomo['payment_token_usd_price'])"
   ]
  },
  {
   "cell_type": "code",
   "execution_count": 51,
   "id": "75522c70",
   "metadata": {},
   "outputs": [],
   "source": [
    "fomo['usd_first_sig'] = make_first_sig(fomo['usd_price'])"
   ]
  },
  {
   "cell_type": "code",
   "execution_count": 54,
   "id": "f821af07",
   "metadata": {},
   "outputs": [
    {
     "data": {
      "text/plain": [
       "<AxesSubplot:>"
      ]
     },
     "execution_count": 54,
     "metadata": {},
     "output_type": "execute_result"
    },
    {
     "data": {
      "image/png": "[encoded data removed]",
      "text/plain": [
       "<Figure size 432x288 with 1 Axes>"
      ]
     },
     "metadata": {
      "needs_background": "light"
     },
     "output_type": "display_data"
    }
   ],
   "source": [
    "fomo['usd_first_sig'].value_counts().plot(kind='bar')"
   ]
  },
  {
   "cell_type": "code",
   "execution_count": 85,
   "id": "a09e42f5",
   "metadata": {},
   "outputs": [
    {
     "data": {
      "text/plain": [
       "1    8683\n",
       "2    1155\n",
       "8     510\n",
       "9     480\n",
       "7     184\n",
       "6     104\n",
       "3     100\n",
       "5      36\n",
       "4      32\n",
       "Name: usd_first_sig, dtype: int64"
      ]
     },
     "execution_count": 85,
     "metadata": {},
     "output_type": "execute_result"
    }
   ],
   "source": [
    "fomo['usd_first_sig'].value_counts()"
   ]
  },
  {
   "cell_type": "markdown",
   "id": "35731149",
   "metadata": {},
   "source": [
    "### This plot follows Benfords Law a little better, but highly affected by clustering "
   ]
  },
  {
   "cell_type": "markdown",
   "id": "d4aaaa45",
   "metadata": {},
   "source": [
    "## Tail Distribution"
   ]
  },
  {
   "cell_type": "code",
   "execution_count": 65,
   "id": "e815582f",
   "metadata": {},
   "outputs": [
    {
     "name": "stdout",
     "output_type": "stream",
     "text": [
      "Calculating best minimal value for power law fit\n",
      "xmin progress: 98%\r"
     ]
    }
   ],
   "source": [
    "#What is the appropriate data to be thrown into powerlaw? Counts of the values and their frequency?\n",
    "#By percentage? Looking into this\n",
    "fit = powerlaw.Fit(fomo['usd_price'].value_counts())"
   ]
  },
  {
   "cell_type": "code",
   "execution_count": 66,
   "id": "6246088e",
   "metadata": {},
   "outputs": [
    {
     "data": {
      "text/plain": [
       "1.794262254097783"
      ]
     },
     "execution_count": 66,
     "metadata": {},
     "output_type": "execute_result"
    }
   ],
   "source": [
    "fit.power_law.alpha"
   ]
  },
  {
   "cell_type": "code",
   "execution_count": 67,
   "id": "c6c04b72",
   "metadata": {},
   "outputs": [
    {
     "data": {
      "text/plain": [
       "0.034116485077311624"
      ]
     },
     "execution_count": 67,
     "metadata": {},
     "output_type": "execute_result"
    }
   ],
   "source": [
    "fit.power_law.sigma"
   ]
  },
  {
   "cell_type": "code",
   "execution_count": 68,
   "id": "4558b1f0",
   "metadata": {},
   "outputs": [
    {
     "data": {
      "text/plain": [
       "(377.39811815360446, 2.4656191507292515e-18)"
      ]
     },
     "execution_count": 68,
     "metadata": {},
     "output_type": "execute_result"
    }
   ],
   "source": [
    "fit.distribution_compare('power_law', 'exponential')"
   ]
  },
  {
   "cell_type": "code",
   "execution_count": 75,
   "id": "cd16c47e",
   "metadata": {},
   "outputs": [],
   "source": [
    "fomo_value_counts = fomo['usd_price'].value_counts()"
   ]
  },
  {
   "cell_type": "markdown",
   "id": "c3244958",
   "metadata": {},
   "source": [
    "## Trade Clustering"
   ]
  },
  {
   "cell_type": "markdown",
   "id": "e1d57ef9",
   "metadata": {},
   "source": []
  }
 ],
 "metadata": {
  "kernelspec": {
   "display_name": "Python 3 (ipykernel)",
   "language": "python",
   "name": "python3"
  },
  "language_info": {
   "codemirror_mode": {
    "name": "ipython",
    "version": 3
   },
   "file_extension": ".py",
   "mimetype": "text/x-python",
   "name": "python",
   "nbconvert_exporter": "python",
   "pygments_lexer": "ipython3",
   "version": "3.9.9"
  }
 },
 "nbformat": 4,
 "nbformat_minor": 5
}
