{
 "cells": [
  {
   "cell_type": "markdown",
   "id": "ddd3c938-d094-487a-9e27-434d1a815d1c",
   "metadata": {},
   "source": [
    "# Trade Size Distributions and Befords Law"
   ]
  },
  {
   "cell_type": "code",
   "execution_count": 86,
   "id": "d70af7df-0e81-4b2f-b01f-a60547b5aabb",
   "metadata": {},
   "outputs": [],
   "source": [
    "import os\n",
    "import pandas as pd\n",
    "import numpy as np\n",
    "import matplotlib.pyplot as plt\n",
    "import powerlaw\n",
    "from math import log10\n",
    "cwd = os.getcwd()\n",
    "#List of csv collections\n",
    "collectionCSVs = [\n",
    "    \"0n1_force.csv\",\n",
    "    \"axie_infinity.csv\",\n",
    "    \"azuki.csv\",\n",
    "    \"bored_ape.csv\",\n",
    "    \"clone_x.csv\",\n",
    "    \"coolmonkes.csv\",\n",
    "    \"creature_world.csv\",\n",
    "    \"creepz_reptile.csv\",\n",
    "    \"creeps.csv\",\n",
    "    \"cryptoadz.csv\",\n",
    "    \"cryptobatz.csv\",\n",
    "    \"cryptokitties.csv\",\n",
    "    \"cryptopunks.csv\",\n",
    "    \"cryptoskulls.csv\",\n",
    "    \"cyberkongz_vx.csv\",\n",
    "    \"DeadFellaz.csv\",\n",
    "    \"decentraland_wearables.csv\",\n",
    "    \"doge_pound.csv\",\n",
    "    \"doodles.csv\",\n",
    "    \"dr_ETHvil.csv\",\n",
    "    \"emblem_vaul.csv\",\n",
    "    \"FLUF_world_thingies.csv\",\n",
    "    \"fomo_mofos.csv\",\n",
    "    \"full_send.csv\",\n",
    "    \"hape_prime.csv\",\n",
    "    \"hashmasks.csv\",\n",
    "    \"lil_heroes.csv\",\n",
    "    \"lostpoets.csv\",\n",
    "    \"meebits.csv\",\n",
    "    \"mekaverse.csv\",\n",
    "    \"metroverse.csv\",\n",
    "    \"mutant_ape.csv\",\n",
    "    \"my_curio_cards.csv\",\n",
    "    \"phantabear.csv\",\n",
    "    \"pudgypenguins.csv\",\n",
    "    \"punkcomics.csv\",\n",
    "    \"rarible.csv\",\n",
    "    \"rtfkt.csv\",\n",
    "    \"sorare.csv\",\n",
    "    \"superrare.csv\",\n",
    "    \"wolf_game.csv\",\n",
    "    \"world of women.csv\",\n",
    "    \"wvrps.csv\",\n",
    "    \"x_rabbits.csv\"\n",
    "]"
   ]
  },
  {
   "cell_type": "code",
   "execution_count": 87,
   "id": "2478dab7-5587-4908-8036-c2c102c1f289",
   "metadata": {},
   "outputs": [],
   "source": [
    "def first_sig_fig(number):\n",
    "    \"\"\"Returns the first significant digit of a provided number as string\n",
    "    \n",
    "    Parameters\n",
    "    ----------\n",
    "    number: The number whose first significant digit will be returned\n",
    "    \n",
    "    Raises\n",
    "    ------\n",
    "    TypeError: If the provided variable is not a number a TypeError will be raised\n",
    "    \"\"\"\n",
    "    #Check that what is provided is actually a number\n",
    "    if type(number) != int and type(number) != float and isinstance(number, numpy) == False:\n",
    "        raise TypeError(f\"{number} is not a number, it is of type {type(number)}\")\n",
    "    #Turn number into string so that it's iterable\n",
    "    snumber = str(number)\n",
    "    #Sentinel value to determine if we've hit the decimals yet.\n",
    "    decimal_encountered = False\n",
    "    for i in range(0,len(snumber)):\n",
    "        if snumber[i].isdigit():\n",
    "            temp = snumber[i]\n",
    "            if snumber[i] == '0':\n",
    "                pass\n",
    "            else:\n",
    "                return snumber[i]\n",
    "        else:\n",
    "            pass"
   ]
  },
  {
   "cell_type": "code",
   "execution_count": 88,
   "id": "8a003d4f-e3c6-492f-8cd6-eac43b35cf60",
   "metadata": {},
   "outputs": [],
   "source": [
    "def benford(array):\n",
    "    \"\"\"Takes in an array of prices as int or float and returns \n",
    "    the distribution of the first significant digit as a dict of each \n",
    "    digit and the respective count.\n",
    "    \n",
    "    Parameters\n",
    "    ----------\n",
    "    array: The numpy array to work with\n",
    "    \"\"\"\n",
    "    c1, c2, c3, c4, c5, c6, c7, c8, c9 = 0, 0, 0, 0, 0, 0, 0, 0, 0\n",
    "    for value in array:\n",
    "        if first_sig_fig(value) == '1':\n",
    "            c1 += 1\n",
    "        elif first_sig_fig(value) == '2':\n",
    "            c2 += 1\n",
    "        elif first_sig_fig(value) == '3':\n",
    "            c3 += 1\n",
    "        elif first_sig_fig(value) == '4':\n",
    "            c4 += 1\n",
    "        elif first_sig_fig(value) == '5':\n",
    "            c5 += 1\n",
    "        elif first_sig_fig(value) == '6':\n",
    "            c6 += 1\n",
    "        elif first_sig_fig(value) == '7':\n",
    "            c7 += 1\n",
    "        elif first_sig_fig(value) == '8':\n",
    "            c8 += 1\n",
    "        elif first_sig_fig(value) == '9':\n",
    "            c9 += 1\n",
    "        else:\n",
    "            raise Exception(f\"First sig fig is not a number 1-9\")\n",
    "    counts = {'1':c1, '2':c2, '3':c3, '4':c4, '5':c5, '6':c6, '7':c7, '8':c8, '9':c9}\n",
    "    return counts"
   ]
  },
  {
   "cell_type": "code",
   "execution_count": 89,
   "id": "c0fe9c7d-ef63-4cd2-a1cf-330b7405534d",
   "metadata": {},
   "outputs": [],
   "source": [
    "def clean_panda(dataframe):\n",
    "    \"\"\"Takes in a Panda dataframe read from an opensea csv, drops bad rows, \n",
    "    bundle data, non ETH transactions then deletes original panda from memory.\n",
    "    \n",
    "    Params\n",
    "    ------\n",
    "    panda - The panda to take in\n",
    "    \n",
    "    Returns\n",
    "    -------\n",
    "    cleaned_dataframe - The cleaned dataframe\"\"\"\n",
    "    \n",
    "    def main(dataframe):\n",
    "        dataframe = drop_bad_rows(dataframe)\n",
    "        dataframe = drop_bundle(dataframe)\n",
    "        dataframe = drop_nETH(dataframe)\n",
    "        dataframe.reset_index(inplace=True, drop=True)\n",
    "        return dataframe\n",
    "    \n",
    "    def drop_bad_rows(dataframe):\n",
    "        ret = dataframe.dropna(subset=['total_price'])\n",
    "        return ret\n",
    "    \n",
    "    def drop_bundle(dataframe):\n",
    "        return dataframe.iloc[:, 1:150]\n",
    "    \n",
    "    def drop_nETH(dataframe):\n",
    "        #What happens if there are no non ETH indices?\n",
    "        bad_indices = dataframe[(dataframe.payment_token_id != 1) & (dataframe.payment_token_id != 2)].index\n",
    "        ret = dataframe.drop(bad_indices)\n",
    "        return ret\n",
    "    \n",
    "    return main(dataframe)"
   ]
  },
  {
   "cell_type": "code",
   "execution_count": 90,
   "id": "0ac3f4e2-ffa0-4fba-a849-0406c28a02e0",
   "metadata": {},
   "outputs": [],
   "source": [
    "def make_adjprice(dataframe):\n",
    "        #Make an adj_price column to represent ETH price\n",
    "        adj_price = dataframe.apply(lambda row: float(row.total_price) / (10**row.payment_token_decimals), axis = 1)\n",
    "        return adj_price"
   ]
  },
  {
   "cell_type": "code",
   "execution_count": 91,
   "id": "ba61784e-a387-49a2-9335-a6bb5c915d51",
   "metadata": {},
   "outputs": [],
   "source": [
    "def roundness_check(adj_prices):\n",
    "    def last_sig_fig(number):\n",
    "        \"\"\"Returns an integer indicating how many places after the decimal the last significant digit is. 1 returned is considered to be \n",
    "        the tenths place, while -1 would indicate the ones place\n",
    "        \n",
    "        Params\n",
    "        ------\n",
    "        number - the number to find the last sigfig of\n",
    "        \n",
    "        Returns\n",
    "        -------\n",
    "        The integer representation of the last sigfig's place\"\"\"\n",
    "        \n",
    "        if type(number) != float and type(number) != int:\n",
    "            raise ValueError(f'{number} is neither a float or int')\n",
    "        \n",
    "        #Convert to string to use indexing\n",
    "        strnum = str(number)\n",
    "        \n",
    "        def calc_ones(strnum):\n",
    "            last_sig_index = -9999\n",
    "            #Strip decimal if we have one\n",
    "            if '.' in strnum:\n",
    "                strnum = strnum[0:strnum.rfind('.')]\n",
    "            #Get length -1 for range\n",
    "            length = len(strnum)\n",
    "            for i in range(0, length):\n",
    "                if strnum[i] != '0':\n",
    "                    last_sig_index = i\n",
    "            if last_sig_index != -9999:\n",
    "                return -(len(strnum) - last_sig_index)\n",
    "            else:\n",
    "                #Edge case where we're processing 0.0\n",
    "                return -1\n",
    "            \n",
    "        #0 and 1 can both be confused in boolean expressions, uses a decided 'null' value instead.\n",
    "        last_sig_index = -9999\n",
    "        if '.' in strnum:\n",
    "            #rfinds gets the index of last .\n",
    "            dec_loc = strnum.rfind('.')\n",
    "            for i in range(dec_loc+1, (len(strnum))):\n",
    "                #Zeros after the . will never be the last sigfig\n",
    "                if strnum[i]!='0':\n",
    "                    last_sig_index = i\n",
    "            #We found sigfig past decimal\n",
    "            if last_sig_index != -9999:\n",
    "                #Return the last occurence, but first calculate the place:\n",
    "                return last_sig_index-dec_loc\n",
    "        #If there isnt a decimal, or we didn't find a sigfig past\n",
    "        return calc_ones(strnum)\n",
    "    \n",
    "    counts = np.empty(0)\n",
    "    for adj_price in adj_prices:\n",
    "        #Find the last significant digit\n",
    "        place = last_sig_fig(adj_price)\n",
    "        counts = np.append(counts, place)\n",
    "        \"\"\"if (place < -4) | (place > 5) | (place == 0):\n",
    "            raise Exception(f'Sigfig was: {place} and adj_price = {adj_price}' +\n",
    "                            '. Considered outside of the realized bounds, and therefore has not been accounted for')\"\"\"\n",
    "        \"\"\"#Then increment the list\n",
    "        if place == -4:\n",
    "            thousands = thousands+1\n",
    "        elif place == -3:\n",
    "            hundreds = hundreds+1\n",
    "        elif place == -2:\n",
    "            tens = tens + 1\n",
    "        elif place == -1:\n",
    "            ones = ones + 1\n",
    "        elif place == 1:\n",
    "            tenths = tenths + 1\n",
    "        elif place == 2:\n",
    "            hundreths = hundreths + 1\n",
    "        elif place == 3:\n",
    "            thousandths = thousandths + 1\n",
    "        elif place == 4:\n",
    "            ten_thousandths = ten_thousandths + 1\n",
    "        elif place == 5:\n",
    "            hundred_thousandths = hundred_thousandths + 1\n",
    "            \n",
    "    return {'hundred_thousandths':hundred_thousandths, 'ten_thousandths':ten_thousandths, 'hundreths': hundreths, 'tenths': tenths, \n",
    "           'ones':ones, 'tens':tens, 'hundreds':hundreds, 'thousands':thousands}\"\"\"\n",
    "    number, occurrences = np.unique(counts, return_counts=True)\n",
    "    returndict = {}\n",
    "    j = 0\n",
    "    for i in number:\n",
    "        returndict[f'{i}']=occurrences[j]\n",
    "        j = j + 1\n",
    "    return returndict"
   ]
  },
  {
   "cell_type": "code",
   "execution_count": 92,
   "id": "d999ebbe-1e43-4505-b535-eae7894a75ef",
   "metadata": {},
   "outputs": [],
   "source": [
    "def prep_pie(np_counts):\n",
    "    labels = []\n",
    "    counts = []\n",
    "    for i in test:\n",
    "        labels.append(i)\n",
    "        counts.append(test[i])\n",
    "    return labels, counts"
   ]
  },
  {
   "cell_type": "code",
   "execution_count": 93,
   "id": "716e79a0",
   "metadata": {},
   "outputs": [],
   "source": [
    "def make_first_sig(adj_price):\n",
    "    series = []\n",
    "    for i in adj_price:\n",
    "        series.append(first_sig_fig(i))\n",
    "    return series"
   ]
  },
  {
   "cell_type": "code",
   "execution_count": 94,
   "id": "cbaf5588",
   "metadata": {},
   "outputs": [],
   "source": [
    "def make_eth_clusters(adj_price):\n",
    "    \"\"\"Takes in the adj price representing the total ETH/WETH traded, which is\n",
    "    stored in the panda from opensea csv, returns two columns to be added by using the float round function.\n",
    "    \n",
    "    Params\n",
    "    ------\n",
    "    adj_price - The adj price series in a panda representing the ETH/WETH amounts\n",
    "    \n",
    "    Returns\n",
    "    -------\n",
    "    single_digit - A series containing the ETH/WETH as a single digit\n",
    "    tenths - A series containing the ETH/WETH as a single digit and a tenths place round\"\"\"\n",
    "    #Single round\n",
    "    single_digit = []\n",
    "    for i in adj_price:\n",
    "        single_digit.append(round(i))\n",
    "    #Tenths\n",
    "    tenths = []\n",
    "    for i in adj_price:\n",
    "        tenths.append(round(i, 1))\n",
    "    return single_digit, tenths"
   ]
  },
  {
   "cell_type": "code",
   "execution_count": 95,
   "id": "8c4efccc",
   "metadata": {},
   "outputs": [],
   "source": [
    "def BenfordChiTest(first_sig):\n",
    "    \"\"\"\n",
    "    Returns Chi Square value\n",
    "    A value over 15.507 has a p value of under .05, meaning\n",
    "    data does not follow Benford's Law.\n",
    "    \n",
    "    Parameters\n",
    "    ----------\n",
    "    observed: Dict with <key,val> = <digit,occurrences>\n",
    "    \"\"\"\n",
    "    # Make list of observed values in correct position\n",
    "    observed = [0,0,0,0,0,0,0,0,0]\n",
    "    for key in first_sig.keys():\n",
    "        observed[int(key) - 1] = first_sig[key]\n",
    "        \n",
    "    size = sum(observed)\n",
    "    expected = [size * log10(1 + 1/i) for i in range(1, 10)] # Computes expected values for each digit\n",
    "    chiSquare = 0\n",
    "    for (obs, exp) in zip(observed, expected):\n",
    "        chiSquare = chiSquare + (obs - exp)**2/exp\n",
    "    return chiSquare"
   ]
  },
  {
   "cell_type": "code",
   "execution_count": 96,
   "id": "278fdfc4",
   "metadata": {},
   "outputs": [
    {
     "data": {
      "text/plain": [
       "\"fig1, ax1 = plt.subplots()\\nax1.pie(counts, labels=labels, autopct='%1.1f%%',\\n        shadow=True, startangle=90)\\nax1.axis('equal')  # Equal aspect ratio ensures that pie is drawn as a circle.\\n\\nplt.show()\""
      ]
     },
     "execution_count": 96,
     "metadata": {},
     "output_type": "execute_result"
    }
   ],
   "source": [
    "\"\"\"fig1, ax1 = plt.subplots()\n",
    "ax1.pie(counts, labels=labels, autopct='%1.1f%%',\n",
    "        shadow=True, startangle=90)\n",
    "ax1.axis('equal')  # Equal aspect ratio ensures that pie is drawn as a circle.\n",
    "\n",
    "plt.show()\"\"\""
   ]
  },
  {
   "cell_type": "code",
   "execution_count": 97,
   "id": "57daf402",
   "metadata": {},
   "outputs": [],
   "source": [
    "#Load in another panda\n",
    "#fomo_location = cwd + \"/data/fomo_mofos.csv\"\n",
    "fomo_location = cwd + \"/data/creepz.csv\"\n",
    "fomo = pd.read_csv(fomo_location, low_memory=False)"
   ]
  },
  {
   "cell_type": "code",
   "execution_count": 98,
   "id": "7ab1d87e",
   "metadata": {},
   "outputs": [],
   "source": [
    "fomo = clean_panda(fomo)\n",
    "fomo['adj_price'] = make_adjprice(fomo)"
   ]
  },
  {
   "cell_type": "code",
   "execution_count": 99,
   "id": "926635e6",
   "metadata": {},
   "outputs": [
    {
     "data": {
      "text/plain": [
       "count    7236.000000\n",
       "mean        2.841050\n",
       "std         2.624852\n",
       "min         0.000000\n",
       "25%         0.890000\n",
       "50%         1.350000\n",
       "75%         4.700000\n",
       "max        30.000000\n",
       "Name: adj_price, dtype: float64"
      ]
     },
     "execution_count": 99,
     "metadata": {},
     "output_type": "execute_result"
    }
   ],
   "source": [
    "fomo['adj_price'].describe()"
   ]
  },
  {
   "cell_type": "markdown",
   "id": "e3769363",
   "metadata": {},
   "source": [
    "## Check for roundness"
   ]
  },
  {
   "cell_type": "code",
   "execution_count": 100,
   "id": "ff2c55e5",
   "metadata": {},
   "outputs": [],
   "source": [
    "a = roundness_check(fomo['adj_price'])"
   ]
  },
  {
   "cell_type": "code",
   "execution_count": 101,
   "id": "7b4fa16a",
   "metadata": {},
   "outputs": [
    {
     "data": {
      "text/plain": [
       "\"labels, counts = prep_pie(a)\\nfig1, ax1 = plt.subplots()\\nax1.pie(counts, labels=labels, autopct='%1.1f%%',\\n        shadow=True, startangle=90)\\nax1.axis('equal')  # Equal aspect ratio ensures that pie is drawn as a circle.\\n\\nplt.show()\""
      ]
     },
     "execution_count": 101,
     "metadata": {},
     "output_type": "execute_result"
    }
   ],
   "source": [
    "\"\"\"labels, counts = prep_pie(a)\n",
    "fig1, ax1 = plt.subplots()\n",
    "ax1.pie(counts, labels=labels, autopct='%1.1f%%',\n",
    "        shadow=True, startangle=90)\n",
    "ax1.axis('equal')  # Equal aspect ratio ensures that pie is drawn as a circle.\n",
    "\n",
    "plt.show()\"\"\""
   ]
  },
  {
   "cell_type": "markdown",
   "id": "f16ac7a1",
   "metadata": {},
   "source": [
    "### Making the first sig key for the panda"
   ]
  },
  {
   "cell_type": "code",
   "execution_count": 102,
   "id": "543bec54",
   "metadata": {},
   "outputs": [],
   "source": [
    "first_sig = make_first_sig(fomo['adj_price'])\n"
   ]
  },
  {
   "cell_type": "code",
   "execution_count": 103,
   "id": "357a7da5",
   "metadata": {},
   "outputs": [],
   "source": [
    "fomo['eth_first_sig'] = first_sig"
   ]
  },
  {
   "cell_type": "markdown",
   "id": "6f26c11a",
   "metadata": {},
   "source": [
    "## First Significant Digit in ETH"
   ]
  },
  {
   "cell_type": "code",
   "execution_count": 104,
   "id": "fe14f398",
   "metadata": {},
   "outputs": [],
   "source": [
    "fomo_first_counts = fomo['eth_first_sig'].value_counts()"
   ]
  },
  {
   "cell_type": "code",
   "execution_count": 105,
   "id": "60b1795a",
   "metadata": {},
   "outputs": [
    {
     "data": {
      "text/plain": [
       "<AxesSubplot:>"
      ]
     },
     "execution_count": 105,
     "metadata": {},
     "output_type": "execute_result"
    },
    {
     "data": {
      "image/png": "[encoded data removed]",
      "text/plain": [
       "<Figure size 432x288 with 1 Axes>"
      ]
     },
     "metadata": {
      "needs_background": "light"
     },
     "output_type": "display_data"
    }
   ],
   "source": [
    "fomo_first_counts.plot(kind='bar')"
   ]
  },
  {
   "cell_type": "code",
   "execution_count": 118,
   "id": "a2a9ba78",
   "metadata": {},
   "outputs": [
    {
     "name": "stdout",
     "output_type": "stream",
     "text": [
      "Chi Square Value: 2572.1603066174307\n"
     ]
    }
   ],
   "source": [
    "ChiSquare = BenfordChiTest(fomo_first_counts)\n",
    "print(\"Chi Square Value: \" + str(ChiSquare)) # I'm getting massive Chi Square values"
   ]
  },
  {
   "cell_type": "markdown",
   "id": "5e27c513",
   "metadata": {},
   "source": [
    "## First Significant Digit in USD converted from ETH"
   ]
  },
  {
   "cell_type": "code",
   "execution_count": 107,
   "id": "e9fc92f5",
   "metadata": {},
   "outputs": [],
   "source": [
    "def make_usdprice(adj_price, payment_token_eth_price):\n",
    "    series = []\n",
    "    for i, j in zip(adj_price, payment_token_eth_price):\n",
    "        series.append(i*j)\n",
    "    return series"
   ]
  },
  {
   "cell_type": "code",
   "execution_count": 108,
   "id": "d8f0f8cb",
   "metadata": {},
   "outputs": [],
   "source": [
    "fomo['usd_price'] = make_usdprice(fomo['adj_price'], fomo['payment_token_usd_price'])"
   ]
  },
  {
   "cell_type": "code",
   "execution_count": 109,
   "id": "75522c70",
   "metadata": {},
   "outputs": [],
   "source": [
    "fomo['usd_first_sig'] = make_first_sig(fomo['usd_price'])"
   ]
  },
  {
   "cell_type": "code",
   "execution_count": 110,
   "id": "f821af07",
   "metadata": {},
   "outputs": [
    {
     "data": {
      "text/plain": [
       "<AxesSubplot:>"
      ]
     },
     "execution_count": 110,
     "metadata": {},
     "output_type": "execute_result"
    },
    {
     "data": {
      "image/png": "[encoded data removed]",
      "text/plain": [
       "<Figure size 432x288 with 1 Axes>"
      ]
     },
     "metadata": {
      "needs_background": "light"
     },
     "output_type": "display_data"
    }
   ],
   "source": [
    "fomo['usd_first_sig'].value_counts().sort_index().plot(kind='bar')"
   ]
  },
  {
   "cell_type": "code",
   "execution_count": 111,
   "id": "a09e42f5",
   "metadata": {},
   "outputs": [
    {
     "data": {
      "text/plain": [
       "1    2583\n",
       "2    2297\n",
       "3    1243\n",
       "4     270\n",
       "5     254\n",
       "6     249\n",
       "9     165\n",
       "7     100\n",
       "8      73\n",
       "Name: usd_first_sig, dtype: int64"
      ]
     },
     "execution_count": 111,
     "metadata": {},
     "output_type": "execute_result"
    }
   ],
   "source": [
    "fomo['usd_first_sig'].value_counts()"
   ]
  },
  {
   "cell_type": "code",
   "execution_count": 117,
   "id": "15220a16",
   "metadata": {},
   "outputs": [
    {
     "name": "stdout",
     "output_type": "stream",
     "text": [
      "Chi Square Value: 2146.3801455508356\n"
     ]
    }
   ],
   "source": [
    "ChiSquare = BenfordChiTest(fomo['usd_first_sig'].value_counts())\n",
    "sum(observed)\n",
    "print(\"Chi Square Value: \" + str(ChiSquare)) # I'm getting massive Chi Square values"
   ]
  },
  {
   "cell_type": "markdown",
   "id": "35731149",
   "metadata": {},
   "source": [
    "### This plot follows Benfords Law a little better, but highly affected by clustering "
   ]
  },
  {
   "cell_type": "markdown",
   "id": "d4aaaa45",
   "metadata": {},
   "source": [
    "## Tail Distribution"
   ]
  },
  {
   "cell_type": "code",
   "execution_count": 40,
   "id": "e815582f",
   "metadata": {},
   "outputs": [
    {
     "name": "stdout",
     "output_type": "stream",
     "text": [
      "Calculating best minimal value for power law fit\n",
      "xmin progress: 98%\r"
     ]
    }
   ],
   "source": [
    "#What is the appropriate data to be thrown into powerlaw? Counts of the values and their frequency?\n",
    "#By percentage? Looking into this\n",
    "fit = powerlaw.Fit(fomo['usd_price'].value_counts())"
   ]
  },
  {
   "cell_type": "code",
   "execution_count": 41,
   "id": "6246088e",
   "metadata": {},
   "outputs": [
    {
     "data": {
      "text/plain": [
       "1.794262254097783"
      ]
     },
     "execution_count": 41,
     "metadata": {},
     "output_type": "execute_result"
    }
   ],
   "source": [
    "fit.power_law.alpha"
   ]
  },
  {
   "cell_type": "code",
   "execution_count": 42,
   "id": "c6c04b72",
   "metadata": {},
   "outputs": [
    {
     "data": {
      "text/plain": [
       "0.034116485077311624"
      ]
     },
     "execution_count": 42,
     "metadata": {},
     "output_type": "execute_result"
    }
   ],
   "source": [
    "fit.power_law.sigma"
   ]
  },
  {
   "cell_type": "code",
   "execution_count": 43,
   "id": "4558b1f0",
   "metadata": {},
   "outputs": [
    {
     "data": {
      "text/plain": [
       "(377.39811815360446, 2.4656191507292515e-18)"
      ]
     },
     "execution_count": 43,
     "metadata": {},
     "output_type": "execute_result"
    }
   ],
   "source": [
    "fit.distribution_compare('power_law', 'exponential')"
   ]
  },
  {
   "cell_type": "code",
   "execution_count": 44,
   "id": "cd16c47e",
   "metadata": {},
   "outputs": [],
   "source": [
    "fomo_value_counts = fomo['usd_price'].value_counts()"
   ]
  },
  {
   "cell_type": "markdown",
   "id": "c3244958",
   "metadata": {},
   "source": [
    "## Trade Clustering"
   ]
  },
  {
   "cell_type": "code",
   "execution_count": 45,
   "id": "e1d57ef9",
   "metadata": {},
   "outputs": [],
   "source": [
    "single, tenths = make_eth_clusters(fomo['adj_price'])"
   ]
  },
  {
   "cell_type": "code",
   "execution_count": 46,
   "id": "ac7a1751",
   "metadata": {},
   "outputs": [],
   "source": [
    "fomo['eth_single'] = single\n",
    "fomo['eth_tenth'] = tenths"
   ]
  },
  {
   "cell_type": "code",
   "execution_count": 48,
   "id": "36398ea2",
   "metadata": {},
   "outputs": [
    {
     "data": {
      "text/plain": [
       "<AxesSubplot:>"
      ]
     },
     "execution_count": 48,
     "metadata": {},
     "output_type": "execute_result"
    },
    {
     "data": {
      "image/png": "[encoded data removed]",
      "text/plain": [
       "<Figure size 432x288 with 1 Axes>"
      ]
     },
     "metadata": {
      "needs_background": "light"
     },
     "output_type": "display_data"
    }
   ],
   "source": [
    "fomo['eth_single'].value_counts().plot(kind='bar')"
   ]
  },
  {
   "cell_type": "code",
   "execution_count": 51,
   "id": "768f65d9",
   "metadata": {},
   "outputs": [
    {
     "data": {
      "text/plain": [
       "<AxesSubplot:>"
      ]
     },
     "execution_count": 51,
     "metadata": {},
     "output_type": "execute_result"
    },
    {
     "data": {
      "image/png": "[encoded data removed]",
      "text/plain": [
       "<Figure size 432x288 with 1 Axes>"
      ]
     },
     "metadata": {
      "needs_background": "light"
     },
     "output_type": "display_data"
    }
   ],
   "source": [
    "fomo['eth_tenth'].value_counts().plot(kind='bar', xlim=(0,10))"
   ]
  },
  {
   "cell_type": "code",
   "execution_count": 60,
   "id": "46c5c8fb",
   "metadata": {},
   "outputs": [
    {
     "data": {
      "text/plain": [
       "0.5    3021\n",
       "0.4    2953\n",
       "0.7    1550\n",
       "0.6    1374\n",
       "0.3     960\n",
       "0.8     744\n",
       "0.9     166\n",
       "1.0     130\n",
       "Name: eth_tenth, dtype: int64"
      ]
     },
     "execution_count": 60,
     "metadata": {},
     "output_type": "execute_result"
    }
   ],
   "source": [
    "fomo['eth_tenth'].value_counts()[:1.0]"
   ]
  },
  {
   "cell_type": "code",
   "execution_count": 61,
   "id": "ae270d0c",
   "metadata": {},
   "outputs": [],
   "source": [
    "sorted_value_counts = fomo['eth_tenth'].value_counts().sort_index()"
   ]
  },
  {
   "cell_type": "code",
   "execution_count": 70,
   "id": "d378cf35",
   "metadata": {},
   "outputs": [
    {
     "data": {
      "text/plain": [
       "0.0        8\n",
       "0.1        5\n",
       "0.2       65\n",
       "0.3      960\n",
       "0.4     2953\n",
       "0.5     3021\n",
       "0.6     1374\n",
       "0.7     1550\n",
       "0.8      744\n",
       "0.9      166\n",
       "1.0      130\n",
       "1.1       23\n",
       "1.2       44\n",
       "1.3       19\n",
       "1.4       25\n",
       "1.5       20\n",
       "1.6        9\n",
       "1.7        1\n",
       "1.8        3\n",
       "1.9        3\n",
       "2.0       22\n",
       "2.1        3\n",
       "2.2        3\n",
       "2.3        1\n",
       "2.4        1\n",
       "2.5       20\n",
       "2.6        1\n",
       "2.7        3\n",
       "2.8        5\n",
       "2.9        1\n",
       "3.0       21\n",
       "3.1        1\n",
       "3.2        1\n",
       "3.3        4\n",
       "3.5       10\n",
       "3.7        1\n",
       "3.8        4\n",
       "3.9        3\n",
       "4.0       16\n",
       "4.2        4\n",
       "4.3        1\n",
       "4.5        9\n",
       "4.9        3\n",
       "5.0        9\n",
       "5.1        1\n",
       "5.2        1\n",
       "5.5        2\n",
       "5.7        1\n",
       "6.9        1\n",
       "7.5        1\n",
       "7.8        1\n",
       "10.0       2\n",
       "12.0       2\n",
       "18.0       1\n",
       "20.0       2\n",
       "Name: eth_tenth, dtype: int64"
      ]
     },
     "execution_count": 70,
     "metadata": {},
     "output_type": "execute_result"
    }
   ],
   "source": [
    "sorted_value_counts"
   ]
  },
  {
   "cell_type": "code",
   "execution_count": 79,
   "id": "f6c71ddb",
   "metadata": {},
   "outputs": [
    {
     "data": {
      "text/plain": [
       "(array([1.300e+01, 6.500e+01, 3.913e+03, 3.021e+03, 2.924e+03, 7.440e+02,\n",
       "        2.960e+02, 2.300e+01, 6.300e+01, 2.500e+01, 2.900e+01, 1.000e+00,\n",
       "        6.000e+00, 2.200e+01, 6.000e+00, 1.000e+00, 2.100e+01, 1.000e+00,\n",
       "        8.000e+00, 2.200e+01]),\n",
       " array([0.  , 0.15, 0.3 , 0.45, 0.6 , 0.75, 0.9 , 1.05, 1.2 , 1.35, 1.5 ,\n",
       "        1.65, 1.8 , 1.95, 2.1 , 2.25, 2.4 , 2.55, 2.7 , 2.85, 3.  ]),\n",
       " <BarContainer object of 20 artists>)"
      ]
     },
     "execution_count": 79,
     "metadata": {},
     "output_type": "execute_result"
    },
    {
     "data": {
      "image/png": "[encoded data removed]",
      "text/plain": [
       "<Figure size 432x288 with 1 Axes>"
      ]
     },
     "metadata": {
      "needs_background": "light"
     },
     "output_type": "display_data"
    }
   ],
   "source": [
    "#range=(tuple) changes the x axis amount\n",
    "#bins sets the \n",
    "plt.hist(fomo['eth_tenth'], align='mid', bins=20, range=(0,3))"
   ]
  },
  {
   "cell_type": "code",
   "execution_count": 81,
   "id": "91a3eb25",
   "metadata": {},
   "outputs": [
    {
     "data": {
      "text/plain": [
       "0     6434\n",
       "1     4659\n",
       "2       79\n",
       "4       45\n",
       "3       41\n",
       "5       14\n",
       "6        3\n",
       "12       2\n",
       "8        2\n",
       "10       2\n",
       "20       2\n",
       "7        1\n",
       "18       1\n",
       "Name: eth_single, dtype: int64"
      ]
     },
     "execution_count": 81,
     "metadata": {},
     "output_type": "execute_result"
    }
   ],
   "source": [
    "fomo['eth_single'].value_counts()"
   ]
  },
  {
   "cell_type": "code",
   "execution_count": null,
   "id": "708e8d43",
   "metadata": {},
   "outputs": [],
   "source": []
  }
 ],
 "metadata": {
  "kernelspec": {
   "display_name": "Python 3 (ipykernel)",
   "language": "python",
   "name": "python3"
  },
  "language_info": {
   "codemirror_mode": {
    "name": "ipython",
    "version": 3
   },
   "file_extension": ".py",
   "mimetype": "text/x-python",
   "name": "python",
   "nbconvert_exporter": "python",
   "pygments_lexer": "ipython3",
   "version": "3.10.2"
  }
 },
 "nbformat": 4,
 "nbformat_minor": 5
}
