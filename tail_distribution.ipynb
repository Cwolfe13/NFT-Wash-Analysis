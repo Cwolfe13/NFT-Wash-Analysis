{
 "cells": [
  {
   "cell_type": "markdown",
   "id": "8e74aadd-fb32-45da-a44a-6df0bc5ec879",
   "metadata": {},
   "source": [
    "$$ L = \\sigma T^4 $$"
   ]
  },
  {
   "cell_type": "markdown",
   "id": "695b51cf-f4bc-4fba-83ee-4840be503c8a",
   "metadata": {},
   "source": [
    "### Playing around with an example, Stefan–Boltzmann law"
   ]
  },
  {
   "cell_type": "code",
   "execution_count": 4,
   "id": "95ca572d-a7f8-41de-a5a8-9c56765e6070",
   "metadata": {},
   "outputs": [],
   "source": [
    "import numpy as np\n",
    "import matplotlib.pyplot as plt\n",
    "sigma = 5.67e-8\n",
    "T = np.linspace(1, 100, 100)\n",
    "#Introduce random error\n",
    "error = 0.02*T * np.random.randn(100)\n",
    "L = sigma * (T + error)**4"
   ]
  },
  {
   "cell_type": "code",
   "execution_count": 5,
   "id": "eba41521-09f8-4efc-b2da-3bb728fea76f",
   "metadata": {},
   "outputs": [
    {
     "data": {
      "image/png": "[encoded data removed]",
      "text/plain": [
       "<Figure size 432x288 with 1 Axes>"
      ]
     },
     "metadata": {
      "needs_background": "light"
     },
     "output_type": "display_data"
    }
   ],
   "source": [
    "plt.plot(T, L, \"r.\")\n",
    "plt.show()"
   ]
  },
  {
   "cell_type": "code",
   "execution_count": 7,
   "id": "e452581f-396d-49f1-ad68-13590d3f8ecb",
   "metadata": {},
   "outputs": [
    {
     "data": {
      "image/png": "[encoded data removed]",
      "text/plain": [
       "<Figure size 432x288 with 1 Axes>"
      ]
     },
     "metadata": {
      "needs_background": "light"
     },
     "output_type": "display_data"
    }
   ],
   "source": [
    "#Plot on the logarithmic axii\n",
    "plt.loglog(T, L, \"r.\")\n",
    "plt.show()\n",
    "#Notice that when plotted on the log axii it almost looks like a straight\n",
    "#line, indicating that a power law can be at play."
   ]
  },
  {
   "cell_type": "code",
   "execution_count": 8,
   "id": "cf679800-8bfc-45ae-86b0-489f65b64445",
   "metadata": {},
   "outputs": [
    {
     "name": "stdout",
     "output_type": "stream",
     "text": [
      "power = 4.00, signma = 5.75e-08\n"
     ]
    }
   ],
   "source": [
    "# a * T**B\n",
    "lnT = np.log(T)\n",
    "lnL = np.log(L)\n",
    "b, lna = np.polyfit(lnT, lnL, 1)\n",
    "#Get a by doing the opposite of a log, exp\n",
    "a = np.exp(lna)\n",
    "print(f'power = {b:.2f}, signma = {a:.2e}')"
   ]
  },
  {
   "cell_type": "code",
   "execution_count": 9,
   "id": "6ffc3062-dab7-446f-ad10-bf56c63e42e4",
   "metadata": {},
   "outputs": [
    {
     "data": {
      "text/plain": [
       "[<matplotlib.lines.Line2D at 0x1144a0400>]"
      ]
     },
     "execution_count": 9,
     "metadata": {},
     "output_type": "execute_result"
    },
    {
     "data": {
      "image/png": "[encoded data removed]",
      "text/plain": [
       "<Figure size 432x288 with 1 Axes>"
      ]
     },
     "metadata": {
      "needs_background": "light"
     },
     "output_type": "display_data"
    }
   ],
   "source": [
    "plt.plot(T, L, \"r.\")\n",
    "plt.plot(T, a*T**b, \"k-\")"
   ]
  },
  {
   "cell_type": "code",
   "execution_count": 10,
   "id": "c7d37c3a-a6f8-4a81-bbd7-c2f0a6bc75d0",
   "metadata": {},
   "outputs": [],
   "source": [
    "#More points toward the bottom left, therefore fit can completely miss."
   ]
  },
  {
   "cell_type": "code",
   "execution_count": 12,
   "id": "798b103c-3078-4f28-aa49-cb9e9767d0ad",
   "metadata": {},
   "outputs": [],
   "source": [
    "import pandas as pd\n",
    "import os"
   ]
  },
  {
   "cell_type": "code",
   "execution_count": 13,
   "id": "771654e6-cfe7-433d-9a13-f95e30e3143f",
   "metadata": {
    "collapsed": true,
    "jupyter": {
     "outputs_hidden": true
    },
    "tags": []
   },
   "outputs": [
    {
     "name": "stderr",
     "output_type": "stream",
     "text": [
      "/var/folders/x7/bxm6vjsx0h5d8k1t86hztzt80000gn/T/ipykernel_37129/2791976689.py:2: DtypeWarning: Columns (6,7,8,9,10,11,12,13,14,15,16,17,18,22,23,25,26,27,28,31,36,37,38,40,41,42,45,46,47,48,50,51,52,53,56,57,60,61,63,66,69,70,71,72,73,77,78,79,85,88,91,92,93,94,99,100,101,102,105,106,108,109,110,111,113,114,115,116,117,118,120,121,122,123,124,129,130,131,132,133,134,135,140,141,145,146,147,148,152,158,160,164,165,166,168,173,174,175,176,177,178,179,180,181,182,183,184,185,189,190,192,193,194,195,198,203,204,205,207,208,209,212,213,214,215,217,218,219,220,223,224,227,228,230,233,236,237,238,239,245,246,247,248,249,250,251,252,253,254,255,256,257,261,262,264,265,266,267,270,275,276,277,279,280,281,284,285,286,287,289,290,291,292,295,296,299,300,302,305,308,309,310,311,313,314,316,318,319,320,323,324,325,326,328,329,330,331,334,335,338,339,341,344,346,347,348,349,353,354,356,357,358,359,362,367,368,375,376,377,378,379,380,381,382,383,384,385,386,387,391,392,394,395,396,397,400,405,406,407,409,410,411,414,415,416,417,419,420,421,422,425,426,429,430,432,435,438,439,440,441,447,448,449,450,451,452,453,454,455,456,457,458,459,463,464,466,467,468,469,472,477,478,479,481,482,483,486,487,488,489,491,492,493,494,497,498,501,502,504,507,510,511,512,513,519,520,521,522,523,524,525,526,527,528,529,530,531,535,536,538,539,540,541,544,549,550,551,553,554,555,558,559,560,561,563,564,565,566,569,570,573,574,576,579,582,583,584,585) have mixed types. Specify dtype option on import or set low_memory=False.\n",
      "  full_send = pd.read_csv(cwd + '/data/full_send.csv')\n"
     ]
    }
   ],
   "source": [
    "cwd = os.getcwd()\n",
    "full_send = pd.read_csv(cwd + '/data/full_send.csv')"
   ]
  },
  {
   "cell_type": "code",
   "execution_count": 22,
   "id": "5d394075-55d6-4d54-8b89-60b7031c9865",
   "metadata": {
    "collapsed": true,
    "jupyter": {
     "outputs_hidden": true
    },
    "tags": []
   },
   "outputs": [
    {
     "ename": "ValueError",
     "evalue": "cannot insert level_0, already exists",
     "output_type": "error",
     "traceback": [
      "\u001b[0;31m---------------------------------------------------------------------------\u001b[0m",
      "\u001b[0;31mValueError\u001b[0m                                Traceback (most recent call last)",
      "\u001b[0;32m/var/folders/x7/bxm6vjsx0h5d8k1t86hztzt80000gn/T/ipykernel_37129/304158036.py\u001b[0m in \u001b[0;36m<module>\u001b[0;34m\u001b[0m\n\u001b[1;32m      1\u001b[0m \u001b[0mfull_send\u001b[0m\u001b[0;34m.\u001b[0m\u001b[0mdropna\u001b[0m\u001b[0;34m(\u001b[0m\u001b[0msubset\u001b[0m\u001b[0;34m=\u001b[0m\u001b[0;34m[\u001b[0m\u001b[0;34m'seller_address'\u001b[0m\u001b[0;34m]\u001b[0m\u001b[0;34m,\u001b[0m \u001b[0minplace\u001b[0m\u001b[0;34m=\u001b[0m\u001b[0;32mTrue\u001b[0m\u001b[0;34m)\u001b[0m\u001b[0;34m\u001b[0m\u001b[0;34m\u001b[0m\u001b[0m\n\u001b[0;32m----> 2\u001b[0;31m \u001b[0mfull_send\u001b[0m\u001b[0;34m.\u001b[0m\u001b[0mreset_index\u001b[0m\u001b[0;34m(\u001b[0m\u001b[0minplace\u001b[0m\u001b[0;34m=\u001b[0m\u001b[0;32mTrue\u001b[0m\u001b[0;34m)\u001b[0m\u001b[0;34m\u001b[0m\u001b[0;34m\u001b[0m\u001b[0m\n\u001b[0m\u001b[1;32m      3\u001b[0m \u001b[0mfull_send\u001b[0m\u001b[0;34m[\u001b[0m\u001b[0;34m'payment_token_decimals'\u001b[0m\u001b[0;34m]\u001b[0m\u001b[0;34m.\u001b[0m\u001b[0mhead\u001b[0m\u001b[0;34m(\u001b[0m\u001b[0;36m5\u001b[0m\u001b[0;34m)\u001b[0m\u001b[0;34m\u001b[0m\u001b[0;34m\u001b[0m\u001b[0m\n",
      "\u001b[0;32m/usr/local/lib/python3.9/site-packages/pandas/util/_decorators.py\u001b[0m in \u001b[0;36mwrapper\u001b[0;34m(*args, **kwargs)\u001b[0m\n\u001b[1;32m    309\u001b[0m                     \u001b[0mstacklevel\u001b[0m\u001b[0;34m=\u001b[0m\u001b[0mstacklevel\u001b[0m\u001b[0;34m,\u001b[0m\u001b[0;34m\u001b[0m\u001b[0;34m\u001b[0m\u001b[0m\n\u001b[1;32m    310\u001b[0m                 )\n\u001b[0;32m--> 311\u001b[0;31m             \u001b[0;32mreturn\u001b[0m \u001b[0mfunc\u001b[0m\u001b[0;34m(\u001b[0m\u001b[0;34m*\u001b[0m\u001b[0margs\u001b[0m\u001b[0;34m,\u001b[0m \u001b[0;34m**\u001b[0m\u001b[0mkwargs\u001b[0m\u001b[0;34m)\u001b[0m\u001b[0;34m\u001b[0m\u001b[0;34m\u001b[0m\u001b[0m\n\u001b[0m\u001b[1;32m    312\u001b[0m \u001b[0;34m\u001b[0m\u001b[0m\n\u001b[1;32m    313\u001b[0m         \u001b[0;32mreturn\u001b[0m \u001b[0mwrapper\u001b[0m\u001b[0;34m\u001b[0m\u001b[0;34m\u001b[0m\u001b[0m\n",
      "\u001b[0;32m/usr/local/lib/python3.9/site-packages/pandas/core/frame.py\u001b[0m in \u001b[0;36mreset_index\u001b[0;34m(self, level, drop, inplace, col_level, col_fill)\u001b[0m\n\u001b[1;32m   5831\u001b[0m                     )\n\u001b[1;32m   5832\u001b[0m \u001b[0;34m\u001b[0m\u001b[0m\n\u001b[0;32m-> 5833\u001b[0;31m                 \u001b[0mnew_obj\u001b[0m\u001b[0;34m.\u001b[0m\u001b[0minsert\u001b[0m\u001b[0;34m(\u001b[0m\u001b[0;36m0\u001b[0m\u001b[0;34m,\u001b[0m \u001b[0mname\u001b[0m\u001b[0;34m,\u001b[0m \u001b[0mlevel_values\u001b[0m\u001b[0;34m)\u001b[0m\u001b[0;34m\u001b[0m\u001b[0;34m\u001b[0m\u001b[0m\n\u001b[0m\u001b[1;32m   5834\u001b[0m \u001b[0;34m\u001b[0m\u001b[0m\n\u001b[1;32m   5835\u001b[0m         \u001b[0mnew_obj\u001b[0m\u001b[0;34m.\u001b[0m\u001b[0mindex\u001b[0m \u001b[0;34m=\u001b[0m \u001b[0mnew_index\u001b[0m\u001b[0;34m\u001b[0m\u001b[0;34m\u001b[0m\u001b[0m\n",
      "\u001b[0;32m/usr/local/lib/python3.9/site-packages/pandas/core/frame.py\u001b[0m in \u001b[0;36minsert\u001b[0;34m(self, loc, column, value, allow_duplicates)\u001b[0m\n\u001b[1;32m   4432\u001b[0m         \u001b[0;32mif\u001b[0m \u001b[0;32mnot\u001b[0m \u001b[0mallow_duplicates\u001b[0m \u001b[0;32mand\u001b[0m \u001b[0mcolumn\u001b[0m \u001b[0;32min\u001b[0m \u001b[0mself\u001b[0m\u001b[0;34m.\u001b[0m\u001b[0mcolumns\u001b[0m\u001b[0;34m:\u001b[0m\u001b[0;34m\u001b[0m\u001b[0;34m\u001b[0m\u001b[0m\n\u001b[1;32m   4433\u001b[0m             \u001b[0;31m# Should this be a different kind of error??\u001b[0m\u001b[0;34m\u001b[0m\u001b[0;34m\u001b[0m\u001b[0m\n\u001b[0;32m-> 4434\u001b[0;31m             \u001b[0;32mraise\u001b[0m \u001b[0mValueError\u001b[0m\u001b[0;34m(\u001b[0m\u001b[0;34mf\"cannot insert {column}, already exists\"\u001b[0m\u001b[0;34m)\u001b[0m\u001b[0;34m\u001b[0m\u001b[0;34m\u001b[0m\u001b[0m\n\u001b[0m\u001b[1;32m   4435\u001b[0m         \u001b[0;32mif\u001b[0m \u001b[0;32mnot\u001b[0m \u001b[0misinstance\u001b[0m\u001b[0;34m(\u001b[0m\u001b[0mloc\u001b[0m\u001b[0;34m,\u001b[0m \u001b[0mint\u001b[0m\u001b[0;34m)\u001b[0m\u001b[0;34m:\u001b[0m\u001b[0;34m\u001b[0m\u001b[0;34m\u001b[0m\u001b[0m\n\u001b[1;32m   4436\u001b[0m             \u001b[0;32mraise\u001b[0m \u001b[0mTypeError\u001b[0m\u001b[0;34m(\u001b[0m\u001b[0;34m\"loc must be int\"\u001b[0m\u001b[0;34m)\u001b[0m\u001b[0;34m\u001b[0m\u001b[0;34m\u001b[0m\u001b[0m\n",
      "\u001b[0;31mValueError\u001b[0m: cannot insert level_0, already exists"
     ]
    }
   ],
   "source": [
    "full_send.dropna(subset=['seller_address'], inplace=True)\n",
    "full_send.reset_index(inplace=True)"
   ]
  },
  {
   "cell_type": "code",
   "execution_count": 39,
   "id": "6d46ffc0-3033-478e-bdc1-756c398b62ba",
   "metadata": {},
   "outputs": [],
   "source": [
    "a = full_send['payment_token_decimals'][0]"
   ]
  },
  {
   "cell_type": "code",
   "execution_count": 54,
   "id": "8d5b0a03-3ebc-4f7e-8434-248d6c26db62",
   "metadata": {},
   "outputs": [],
   "source": [
    "b = full_send['total_price'][0]"
   ]
  },
  {
   "cell_type": "code",
   "execution_count": 55,
   "id": "eb6d0810-39bc-405c-9186-16c38b220a28",
   "metadata": {},
   "outputs": [],
   "source": [
    "b = int(b) / 10**a"
   ]
  },
  {
   "cell_type": "code",
   "execution_count": 57,
   "id": "b044799c-7a51-40c6-9f1d-c5bba3b454de",
   "metadata": {},
   "outputs": [
    {
     "data": {
      "text/plain": [
       "9.5"
      ]
     },
     "execution_count": 57,
     "metadata": {},
     "output_type": "execute_result"
    }
   ],
   "source": [
    "float(b)"
   ]
  },
  {
   "cell_type": "code",
   "execution_count": 59,
   "id": "507f1da5-8940-453b-a32c-a4139cb354a2",
   "metadata": {},
   "outputs": [],
   "source": [
    "full_send['adj_price'] = full_send.apply(lambda row: int(row.total_price) / (10**row.payment_token_decimals), axis = 1)"
   ]
  },
  {
   "cell_type": "code",
   "execution_count": 60,
   "id": "b93b1021-8143-4210-8762-1589889487bf",
   "metadata": {},
   "outputs": [
    {
     "data": {
      "text/plain": [
       "0    9.5000\n",
       "1    1.7969\n",
       "2    1.7690\n",
       "3    9.4999\n",
       "4    1.7950\n",
       "5    1.7290\n",
       "6    1.7280\n",
       "7    1.5900\n",
       "8    1.5900\n",
       "9    1.5900\n",
       "Name: adj_price, dtype: float64"
      ]
     },
     "execution_count": 60,
     "metadata": {},
     "output_type": "execute_result"
    }
   ],
   "source": [
    "full_send['adj_price'].head(10)"
   ]
  },
  {
   "cell_type": "code",
   "execution_count": 78,
   "id": "7d77066b-d003-424a-bced-67571532ed23",
   "metadata": {},
   "outputs": [
    {
     "data": {
      "image/png": "[encoded data removed]",
      "text/plain": [
       "<Figure size 432x288 with 1 Axes>"
      ]
     },
     "metadata": {
      "needs_background": "light"
     },
     "output_type": "display_data"
    }
   ],
   "source": [
    "vis = full_send.plot.scatter('index', 'adj_price', c='red')"
   ]
  },
  {
   "cell_type": "code",
   "execution_count": 79,
   "id": "bffa9137-554c-4f99-bfd5-cf5f689477d4",
   "metadata": {},
   "outputs": [],
   "source": [
    "vis.figure.savefig('full_send_indexvprice.pdf')"
   ]
  },
  {
   "cell_type": "code",
   "execution_count": 90,
   "id": "0e0a6f36-7b25-4480-b167-1d188101a94c",
   "metadata": {},
   "outputs": [],
   "source": [
    "import powerlaw\n",
    "data = full_send['adj_price']"
   ]
  },
  {
   "cell_type": "code",
   "execution_count": 91,
   "id": "8473bbb5-5855-41d1-a43c-b1e12ae8041c",
   "metadata": {},
   "outputs": [
    {
     "name": "stderr",
     "output_type": "stream",
     "text": [
      "Values less than or equal to 0 in data. Throwing out 0 or negative values\n"
     ]
    },
    {
     "name": "stdout",
     "output_type": "stream",
     "text": [
      "Calculating best minimal value for power law fit\n",
      "xmin progress: 99%\r"
     ]
    }
   ],
   "source": [
    "fit = powerlaw.Fit(data)"
   ]
  },
  {
   "cell_type": "code",
   "execution_count": 92,
   "id": "ae574226-abd7-418a-a359-367ad26c44a6",
   "metadata": {},
   "outputs": [
    {
     "data": {
      "text/plain": [
       "4.530617949554053"
      ]
     },
     "execution_count": 92,
     "metadata": {},
     "output_type": "execute_result"
    }
   ],
   "source": [
    "fit.power_law.alpha"
   ]
  },
  {
   "cell_type": "code",
   "execution_count": 93,
   "id": "f706ffd9-0f54-4eac-8e94-ae01a7d63952",
   "metadata": {},
   "outputs": [
    {
     "data": {
      "text/plain": [
       "0.0390463356664447"
      ]
     },
     "execution_count": 93,
     "metadata": {},
     "output_type": "execute_result"
    }
   ],
   "source": [
    "fit.power_law.sigma"
   ]
  },
  {
   "cell_type": "code",
   "execution_count": 94,
   "id": "5128ce4d-b8cf-4a93-a7ec-e058fb20b9c7",
   "metadata": {},
   "outputs": [
    {
     "data": {
      "text/plain": [
       "(1152.495493060489, 4.2783701679969927e-41)"
      ]
     },
     "execution_count": 94,
     "metadata": {},
     "output_type": "execute_result"
    }
   ],
   "source": [
    "fit.distribution_compare('power_law', 'exponential')"
   ]
  },
  {
   "cell_type": "code",
   "execution_count": 112,
   "id": "7b5d76fc-e986-4d70-bea6-929e4a86e41f",
   "metadata": {},
   "outputs": [
    {
     "data": {
      "text/plain": [
       "0.9500    1\n",
       "0.9460    1\n",
       "2.3800    1\n",
       "0.9960    1\n",
       "0.7203    1\n",
       "Name: adj_price, dtype: int64"
      ]
     },
     "execution_count": 112,
     "metadata": {},
     "output_type": "execute_result"
    }
   ],
   "source": [
    "data.value_counts(dropna=False).tail()"
   ]
  },
  {
   "cell_type": "code",
   "execution_count": 113,
   "id": "172f9126-0479-4f85-aa87-ffe5cd8a6f34",
   "metadata": {},
   "outputs": [
    {
     "data": {
      "text/plain": [
       "count    8578.000000\n",
       "mean        1.307411\n",
       "std         0.820464\n",
       "min         0.000000\n",
       "25%         0.997000\n",
       "50%         1.100000\n",
       "75%         1.289000\n",
       "max        13.970000\n",
       "Name: adj_price, dtype: float64"
      ]
     },
     "execution_count": 113,
     "metadata": {},
     "output_type": "execute_result"
    }
   ],
   "source": [
    "data.describe()"
   ]
  },
  {
   "cell_type": "code",
   "execution_count": 153,
   "id": "3b5a0dbe-531f-4f11-8840-0a8f4fa64909",
   "metadata": {},
   "outputs": [],
   "source": [
    "#finds that an nft transaction was for 0.0 ethereum?\n",
    "zeros = np.where(data == 0)\n",
    "abnorm = full_send.iloc[59, 60:120]"
   ]
  },
  {
   "cell_type": "code",
   "execution_count": 154,
   "id": "c1029160-5f07-4b7c-b1e3-9801f6b6a969",
   "metadata": {
    "jp-MarkdownHeadingCollapsed": true,
    "tags": []
   },
   "outputs": [
    {
     "data": {
      "text/plain": [
       "asset_collection_opensea_buyer_fee_basis_points                                                   0.0\n",
       "asset_collection_opensea_seller_fee_basis_points                                                250.0\n",
       "asset_collection_payout_address                            0x9e7042da3a200a6dbfbfe7a8a48ee36d1fc2c731\n",
       "asset_collection_require_email                                                                  False\n",
       "asset_collection_short_description                                                                NaN\n",
       "asset_collection_slug                                                            metacard-by-fullsend\n",
       "asset_collection_telegram_url                                                                     NaN\n",
       "asset_collection_twitter_username                                                                 NaN\n",
       "asset_collection_instagram_username                                                       metacard.io\n",
       "asset_collection_wiki_url                                                                         NaN\n",
       "asset_decimals                                                                                    0.0\n",
       "asset_token_metadata                                https://opensea.mypinata.cloud/ipfs/QmTfh19epr...\n",
       "asset_owner_user_username                                                                         NaN\n",
       "asset_owner_profile_img_url                         https://storage.googleapis.com/opensea-static/...\n",
       "asset_owner_address                                        0x743db5a93f777251e98fdb514000f2795f334fd8\n",
       "asset_owner_config                                                                                NaN\n",
       "asset_bundle                                                                                      NaN\n",
       "auction_type                                                                                      NaN\n",
       "bid_amount                                                                                        NaN\n",
       "collection_slug                                                                  metacard-by-fullsend\n",
       "contract_address                                           0x7be8076f4ea4a4ad08075c2508e481d6c946d12b\n",
       "created_date                                                               2022-02-05T18:29:03.085050\n",
       "custom_event_name                                                                                 NaN\n",
       "dev_fee_payment_event                                                                             NaN\n",
       "dev_seller_fee_basis_points                                                                    1000.0\n",
       "duration                                                                                          NaN\n",
       "ending_price                                                                                      NaN\n",
       "event_type                                                                                 successful\n",
       "from_account                                                                                      NaN\n",
       "id                                                                                       3283702619.0\n",
       "is_private                                                                                       True\n",
       "owner_account                                                                                     NaN\n",
       "payment_token_id                                                                                  1.0\n",
       "payment_token_symbol                                                                              ETH\n",
       "payment_token_address                                      0x0000000000000000000000000000000000000000\n",
       "payment_token_image_url                             https://storage.opensea.io/files/6f8e2979d4281...\n",
       "payment_token_name                                                                              Ether\n",
       "payment_token_decimals                                                                           18.0\n",
       "payment_token_eth_price                                                                           1.0\n",
       "payment_token_usd_price                                                                       3054.15\n",
       "quantity                                                                                          1.0\n",
       "seller_user_username                                                                         lsdrosie\n",
       "seller_profile_img_url                              https://storage.googleapis.com/opensea-static/...\n",
       "seller_address                                             0x1029104967e45b9d5b44849211bf2696996edecd\n",
       "seller_config                                                                                     NaN\n",
       "starting_price                                                                                    NaN\n",
       "to_account                                                                                        NaN\n",
       "total_price                                                                                         0\n",
       "transaction_block_hash                              0x6d4bf609ed321ad36a48cab5059cb1ea238d652e81a5...\n",
       "transaction_block_number                                                                   14147605.0\n",
       "transaction_from_account_user_username                                                            NaN\n",
       "transaction_from_account_profile_img_url            https://storage.googleapis.com/opensea-static/...\n",
       "transaction_from_account_address                           0x743db5a93f777251e98fdb514000f2795f334fd8\n",
       "transaction_from_account_config                                                                   NaN\n",
       "transaction_id                                                                            267797904.0\n",
       "transaction_timestamp                                                             2022-02-05T18:28:24\n",
       "transaction_to_account_user_username                                                   OpenSea-Orders\n",
       "transaction_to_account_profile_img_url              https://storage.googleapis.com/opensea-static/...\n",
       "transaction_to_account_address                             0x7be8076f4ea4a4ad08075c2508e481d6c946d12b\n",
       "transaction_to_account_config                                                                verified\n",
       "Name: 59, dtype: object"
      ]
     },
     "execution_count": 154,
     "metadata": {},
     "output_type": "execute_result"
    }
   ],
   "source": [
    "abnorm"
   ]
  },
  {
   "cell_type": "code",
   "execution_count": 161,
   "id": "e76651cb-c932-4603-9b99-70b5c66ccb56",
   "metadata": {},
   "outputs": [
    {
     "name": "stderr",
     "output_type": "stream",
     "text": [
      "/var/folders/x7/bxm6vjsx0h5d8k1t86hztzt80000gn/T/ipykernel_37129/2397792645.py:2: SettingWithCopyWarning: \n",
      "A value is trying to be set on a copy of a slice from a DataFrame\n",
      "\n",
      "See the caveats in the documentation: https://pandas.pydata.org/pandas-docs/stable/user_guide/indexing.html#returning-a-view-versus-a-copy\n",
      "  data[59] = 0.1\n"
     ]
    },
    {
     "data": {
      "text/plain": [
       "0.1"
      ]
     },
     "execution_count": 161,
     "metadata": {},
     "output_type": "execute_result"
    }
   ],
   "source": [
    "#Manually changing this just for now to play with, plot function will fail with divide by zero\n",
    "data[59] = 0.1\n",
    "data[59]"
   ]
  },
  {
   "cell_type": "code",
   "execution_count": 162,
   "id": "2c00efb3-d299-4a1c-8ac7-3e926f3a097d",
   "metadata": {},
   "outputs": [
    {
     "data": {
      "text/plain": [
       "<AxesSubplot:>"
      ]
     },
     "execution_count": 162,
     "metadata": {},
     "output_type": "execute_result"
    },
    {
     "data": {
      "image/png": "[encoded data removed]",
      "text/plain": [
       "<Figure size 432x288 with 1 Axes>"
      ]
     },
     "metadata": {
      "needs_background": "light"
     },
     "output_type": "display_data"
    }
   ],
   "source": [
    "powerlaw.plot_pdf(data, color = 'b')"
   ]
  },
  {
   "cell_type": "code",
   "execution_count": null,
   "id": "1232fab4-b3b3-488d-a351-2629f9e3a037",
   "metadata": {},
   "outputs": [],
   "source": []
  }
 ],
 "metadata": {
  "kernelspec": {
   "display_name": "Python 3 (ipykernel)",
   "language": "python",
   "name": "python3"
  },
  "language_info": {
   "codemirror_mode": {
    "name": "ipython",
    "version": 3
   },
   "file_extension": ".py",
   "mimetype": "text/x-python",
   "name": "python",
   "nbconvert_exporter": "python",
   "pygments_lexer": "ipython3",
   "version": "3.9.9"
  }
 },
 "nbformat": 4,
 "nbformat_minor": 5
}
