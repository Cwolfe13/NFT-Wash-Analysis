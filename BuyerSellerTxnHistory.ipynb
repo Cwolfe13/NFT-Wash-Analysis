{
 "cells": [
  {
   "cell_type": "code",
   "execution_count": 206,
   "id": "e13fd601",
   "metadata": {},
   "outputs": [],
   "source": [
    "import pandas as pd\n",
    "import pickle\n",
    "import os\n",
    "import matplotlib.pyplot as plt\n",
    "import numpy as np\n",
    "cwd = os.getcwd()\n",
    "collection = \"cryptopunks\""
   ]
  },
  {
   "cell_type": "code",
   "execution_count": 207,
   "id": "64df4907",
   "metadata": {},
   "outputs": [],
   "source": [
    "# Load in pickle file containing dict of seller transactions\n",
    "pickleLocation = cwd + \"/\" + collection + \".pkl\"\n",
    "if (not os.path.exists(pickleLocation)):\n",
    "    print(\"ERROR: \" + pickleLocation + \" DOES NOT EXIST\")\n",
    "    quit()\n",
    "inFile = open(pickleLocation, \"rb\")\n",
    "sellerTxns = pickle.load(inFile)\n",
    "inFile.close()"
   ]
  },
  {
   "cell_type": "code",
   "execution_count": 208,
   "id": "aeb37931",
   "metadata": {},
   "outputs": [],
   "source": [
    "# Read in buyers & sellers associated with each transaction\n",
    "readIn = ['winner_account_address', 'seller_address']\n",
    "buyersLocation = cwd + \"/data/\" + collection + \".csv\"\n",
    "if (not os.path.exists(buyersLocation)):\n",
    "    print(\"ERROR: \" + buyersLocation + \" DOES NOT EXIST\")\n",
    "    quit()\n",
    "nftSales = pd.read_csv(buyersLocation, usecols = readIn)\n",
    "nftSales.dropna(subset=['seller_address'], inplace=True)"
   ]
  },
  {
   "cell_type": "code",
   "execution_count": 209,
   "id": "dae1d7e2",
   "metadata": {},
   "outputs": [],
   "source": [
    "# List to store buyers that received ETH from sellers\n",
    "# Stored as buyer, seller\n",
    "buyersSellers = []\n",
    "\n",
    "for index, row in nftSales.iterrows():\n",
    "    for addr in sellerTxns[row['seller_address']]:\n",
    "\n",
    "        # If the address from txn list is the one who bought the NFT and received ETH...\n",
    "        if(addr == row['winner_account_address'] and\n",
    "        sellerTxns[row['seller_address']][addr] == \"sent\"):\n",
    "                buyersSellers.append(tuple((addr, row['seller_address'])))"
   ]
  },
  {
   "cell_type": "code",
   "execution_count": 210,
   "id": "99dcf4f9",
   "metadata": {},
   "outputs": [
    {
     "name": "stdout",
     "output_type": "stream",
     "text": [
      "/chain_analysis_results/cryptopunks_results.txt successfully written\n"
     ]
    }
   ],
   "source": [
    "# Write list of suspicious buyers/sellers to file\n",
    "outFileLoc = cwd + \"/chain_analysis_results/\" + collection + \"_results.txt\" \n",
    "outFile = open(outFileLoc, \"w+\")\n",
    "for pair in buyersSellers:\n",
    "    line = ' '.join(str(tmp) for tmp in pair)\n",
    "    outFile.write(line + '\\n')\n",
    "if len(buyersSellers) > 0:\n",
    "    print(\"/chain_analysis_results/\" + collection + \"_results.txt successfully written\")\n",
    "else:\n",
    "    print(collection + \" sellers did not send ETH to buyers\")\n",
    "outFile.close()"
   ]
  },
  {
   "cell_type": "code",
   "execution_count": 211,
   "id": "0039e2ee",
   "metadata": {},
   "outputs": [
    {
     "name": "stdout",
     "output_type": "stream",
     "text": [
      "15226\n",
      "12918\n"
     ]
    }
   ],
   "source": [
    "# Make list of sellers with dupes removed, make array with number of nonoffenders & offenders\n",
    "print(len(nftSales.index))\n",
    "#allSellers = nftSales['seller_address'].drop_duplicates(keep='first')\n",
    "data = np.array([len(nftSales.index) - len(buyersSellers), len(buyersSellers)])\n",
    "print(data[1])\n",
    "#print(len(allSellers.index))\n",
    "pieLabels = [\"Did not send ETH to buyer (\" + str(data[0]) + \")\", \"Sent ETH to buyer (\" + str(data[1]) + \")\"]"
   ]
  },
  {
   "cell_type": "code",
   "execution_count": 212,
   "id": "96848272",
   "metadata": {},
   "outputs": [
    {
     "data": {
      "image/png": "[encoded data removed]",
      "text/plain": [
       "<Figure size 432x288 with 1 Axes>"
      ]
     },
     "metadata": {},
     "output_type": "display_data"
    }
   ],
   "source": [
    "# Display pie chart of results\n",
    "plt.pie(data, labels=pieLabels, explode=explode)\n",
    "plt.title(\"Seller Transaction history for \" + collection +  \" (\" + str(len(nftSales.index)) + \" total transactions)\", bbox={'facecolor':'0.8', 'pad':5})\n",
    "plt.show()"
   ]
  }
 ],
 "metadata": {
  "kernelspec": {
   "display_name": "Python 3 (ipykernel)",
   "language": "python",
   "name": "python3"
  },
  "language_info": {
   "codemirror_mode": {
    "name": "ipython",
    "version": 3
   },
   "file_extension": ".py",
   "mimetype": "text/x-python",
   "name": "python",
   "nbconvert_exporter": "python",
   "pygments_lexer": "ipython3",
   "version": "3.10.2"
  }
 },
 "nbformat": 4,
 "nbformat_minor": 5
}
